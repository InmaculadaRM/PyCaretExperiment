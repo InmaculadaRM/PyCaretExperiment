{
 "cells": [
  {
   "cell_type": "markdown",
   "metadata": {},
   "source": [
    "# Machine Learning Classification with Pycaret "
   ]
  },
  {
   "cell_type": "markdown",
   "metadata": {},
   "source": [
    "<div class=\"alert alert-block alert-info\"> <b>THE TASK: </b> \n",
    "    Can we use UK historical weather data to find a classification algorithm that can predict whether a meteorological station is located in the northern, central, or southern third of the UK?\n",
    "</div>"
   ]
  },
  {
   "cell_type": "markdown",
   "metadata": {},
   "source": [
    "### The task and the metrics\n",
    "\n",
    "This task will be a supervised multiclass classification problem, that is a classification predictive modelling problem where all outcome examples belong to one of the possible classes: North, Central or South.\n",
    "\n",
    "The first question we must answer is: How do we know if our algorithm predictions are good enough? As this is a multiclass classification problem, with 3 possible classes, if we were doing a lucky guess and assuming the three classes are balanced, we´ll have 1/3 chances to get it right. So, we can consider 0.333 as our baseline accuracy and aim for a score greater than that."
   ]
  },
  {
   "cell_type": "markdown",
   "metadata": {},
   "source": [
    "### Getting the data\n",
    "\n",
    "I will use the aggregated 10-year dataset with data from 37 UK meteorological weather stations that I created in the clustering exercise. The dataset is available in this repository as uk10data.csv."
   ]
  },
  {
   "cell_type": "code",
   "execution_count": 1,
   "metadata": {},
   "outputs": [],
   "source": [
    "#Import the first packages to start dealing with the data:\n",
    "import pandas as pd\n",
    "import numpy as np"
   ]
  },
  {
   "cell_type": "code",
   "execution_count": 2,
   "metadata": {},
   "outputs": [
    {
     "data": {
      "text/plain": [
       "(4428, 8)"
      ]
     },
     "execution_count": 2,
     "metadata": {},
     "output_type": "execute_result"
    }
   ],
   "source": [
    "# load data to start (change path yo your own computer path)\n",
    "path= \"Desktop/uk10data.csv\"\n",
    "uk10data=pd.read_csv(path)\n",
    "uk10data.shape"
   ]
  },
  {
   "cell_type": "markdown",
   "metadata": {},
   "source": [
    "### Assign labels to the stations\n",
    "\n",
    "To divide the stations into 3 latitude bands, I calculate the min, max, 1/3 and 2/3 quantiles for all our latitude values. \n",
    "(if shoud we have a large amount of cities we could have use this values or code for defining the bin, with this code: bins = [uk10_latitude['latitude'].min(), uk10_latitude['latitude'].quantile(1/3), uk10_latitude['latitude'].quantile(2/3), uk10_latitude['latitude'].max()]\n",
    "\n",
    "But as it is a short list and I am familiar with the locations of the stations, I preffer to pick the cutting boundaries manually by looking in the map and with the idea of keeping an aceptable balanced proportion of the three classes: \n",
    "1. upper limit in lerwick 60.13946 \n",
    "2. north_central cut in ballypatrick 55.18062 \n",
    "3. south-central cut in cwmystwyth 52.35817 \n",
    "4. lower limit in camborne 50.21782"
   ]
  },
  {
   "cell_type": "code",
   "execution_count": 3,
   "metadata": {},
   "outputs": [
    {
     "data": {
      "text/html": [
       "<div>\n",
       "<style scoped>\n",
       "    .dataframe tbody tr th:only-of-type {\n",
       "        vertical-align: middle;\n",
       "    }\n",
       "\n",
       "    .dataframe tbody tr th {\n",
       "        vertical-align: top;\n",
       "    }\n",
       "\n",
       "    .dataframe thead th {\n",
       "        text-align: right;\n",
       "    }\n",
       "</style>\n",
       "<table border=\"1\" class=\"dataframe\">\n",
       "  <thead>\n",
       "    <tr style=\"text-align: right;\">\n",
       "      <th></th>\n",
       "      <th>station</th>\n",
       "      <th>latitude</th>\n",
       "    </tr>\n",
       "  </thead>\n",
       "  <tbody>\n",
       "    <tr>\n",
       "      <th>16</th>\n",
       "      <td>lerwick</td>\n",
       "      <td>60.13946</td>\n",
       "    </tr>\n",
       "    <tr>\n",
       "      <th>35</th>\n",
       "      <td>wickairport</td>\n",
       "      <td>58.45406</td>\n",
       "    </tr>\n",
       "    <tr>\n",
       "      <th>29</th>\n",
       "      <td>stornoway</td>\n",
       "      <td>58.21382</td>\n",
       "    </tr>\n",
       "    <tr>\n",
       "      <th>20</th>\n",
       "      <td>nairn</td>\n",
       "      <td>57.59300</td>\n",
       "    </tr>\n",
       "    <tr>\n",
       "      <th>4</th>\n",
       "      <td>braemar</td>\n",
       "      <td>57.00612</td>\n",
       "    </tr>\n",
       "    <tr>\n",
       "      <th>31</th>\n",
       "      <td>tiree</td>\n",
       "      <td>56.49999</td>\n",
       "    </tr>\n",
       "    <tr>\n",
       "      <th>10</th>\n",
       "      <td>dunstaffnage</td>\n",
       "      <td>56.45054</td>\n",
       "    </tr>\n",
       "    <tr>\n",
       "      <th>17</th>\n",
       "      <td>leuchars</td>\n",
       "      <td>56.37745</td>\n",
       "    </tr>\n",
       "    <tr>\n",
       "      <th>23</th>\n",
       "      <td>paisley</td>\n",
       "      <td>55.84550</td>\n",
       "    </tr>\n",
       "    <tr>\n",
       "      <th>13</th>\n",
       "      <td>eskdalemuir</td>\n",
       "      <td>55.31100</td>\n",
       "    </tr>\n",
       "    <tr>\n",
       "      <th>2</th>\n",
       "      <td>ballypatrick</td>\n",
       "      <td>55.18062</td>\n",
       "    </tr>\n",
       "    <tr>\n",
       "      <th>11</th>\n",
       "      <td>durham</td>\n",
       "      <td>54.76786</td>\n",
       "    </tr>\n",
       "    <tr>\n",
       "      <th>21</th>\n",
       "      <td>newtonrigg</td>\n",
       "      <td>54.66990</td>\n",
       "    </tr>\n",
       "    <tr>\n",
       "      <th>34</th>\n",
       "      <td>whitby</td>\n",
       "      <td>54.48073</td>\n",
       "    </tr>\n",
       "    <tr>\n",
       "      <th>1</th>\n",
       "      <td>armagh</td>\n",
       "      <td>54.35234</td>\n",
       "    </tr>\n",
       "    <tr>\n",
       "      <th>3</th>\n",
       "      <td>bradford</td>\n",
       "      <td>53.81341</td>\n",
       "    </tr>\n",
       "    <tr>\n",
       "      <th>27</th>\n",
       "      <td>sheffield</td>\n",
       "      <td>53.38101</td>\n",
       "    </tr>\n",
       "    <tr>\n",
       "      <th>24</th>\n",
       "      <td>ringway</td>\n",
       "      <td>53.35600</td>\n",
       "    </tr>\n",
       "    <tr>\n",
       "      <th>32</th>\n",
       "      <td>valley</td>\n",
       "      <td>53.25238</td>\n",
       "    </tr>\n",
       "    <tr>\n",
       "      <th>33</th>\n",
       "      <td>waddington</td>\n",
       "      <td>53.17509</td>\n",
       "    </tr>\n",
       "    <tr>\n",
       "      <th>30</th>\n",
       "      <td>suttonbonington</td>\n",
       "      <td>52.83310</td>\n",
       "    </tr>\n",
       "    <tr>\n",
       "      <th>26</th>\n",
       "      <td>shawbury</td>\n",
       "      <td>52.79433</td>\n",
       "    </tr>\n",
       "    <tr>\n",
       "      <th>18</th>\n",
       "      <td>lowestoft</td>\n",
       "      <td>52.48323</td>\n",
       "    </tr>\n",
       "    <tr>\n",
       "      <th>9</th>\n",
       "      <td>cwmystwyth</td>\n",
       "      <td>52.35817</td>\n",
       "    </tr>\n",
       "    <tr>\n",
       "      <th>6</th>\n",
       "      <td>cambridge</td>\n",
       "      <td>52.24501</td>\n",
       "    </tr>\n",
       "    <tr>\n",
       "      <th>0</th>\n",
       "      <td>aberporth</td>\n",
       "      <td>52.13914</td>\n",
       "    </tr>\n",
       "    <tr>\n",
       "      <th>25</th>\n",
       "      <td>rossonwye</td>\n",
       "      <td>51.91075</td>\n",
       "    </tr>\n",
       "    <tr>\n",
       "      <th>22</th>\n",
       "      <td>oxford</td>\n",
       "      <td>51.76073</td>\n",
       "    </tr>\n",
       "    <tr>\n",
       "      <th>7</th>\n",
       "      <td>cardiff</td>\n",
       "      <td>51.48783</td>\n",
       "    </tr>\n",
       "    <tr>\n",
       "      <th>14</th>\n",
       "      <td>heathrow</td>\n",
       "      <td>51.47872</td>\n",
       "    </tr>\n",
       "    <tr>\n",
       "      <th>19</th>\n",
       "      <td>manston</td>\n",
       "      <td>51.34597</td>\n",
       "    </tr>\n",
       "    <tr>\n",
       "      <th>8</th>\n",
       "      <td>chivenor</td>\n",
       "      <td>51.08865</td>\n",
       "    </tr>\n",
       "    <tr>\n",
       "      <th>36</th>\n",
       "      <td>yeovilton</td>\n",
       "      <td>51.00586</td>\n",
       "    </tr>\n",
       "    <tr>\n",
       "      <th>28</th>\n",
       "      <td>southampton</td>\n",
       "      <td>50.89822</td>\n",
       "    </tr>\n",
       "    <tr>\n",
       "      <th>15</th>\n",
       "      <td>hurn</td>\n",
       "      <td>50.77890</td>\n",
       "    </tr>\n",
       "    <tr>\n",
       "      <th>12</th>\n",
       "      <td>eastbourne</td>\n",
       "      <td>50.76167</td>\n",
       "    </tr>\n",
       "    <tr>\n",
       "      <th>5</th>\n",
       "      <td>camborne</td>\n",
       "      <td>50.21782</td>\n",
       "    </tr>\n",
       "  </tbody>\n",
       "</table>\n",
       "</div>"
      ],
      "text/plain": [
       "            station  latitude\n",
       "16          lerwick  60.13946\n",
       "35      wickairport  58.45406\n",
       "29        stornoway  58.21382\n",
       "20            nairn  57.59300\n",
       "4           braemar  57.00612\n",
       "31            tiree  56.49999\n",
       "10     dunstaffnage  56.45054\n",
       "17         leuchars  56.37745\n",
       "23          paisley  55.84550\n",
       "13      eskdalemuir  55.31100\n",
       "2      ballypatrick  55.18062\n",
       "11           durham  54.76786\n",
       "21       newtonrigg  54.66990\n",
       "34           whitby  54.48073\n",
       "1            armagh  54.35234\n",
       "3          bradford  53.81341\n",
       "27        sheffield  53.38101\n",
       "24          ringway  53.35600\n",
       "32           valley  53.25238\n",
       "33       waddington  53.17509\n",
       "30  suttonbonington  52.83310\n",
       "26         shawbury  52.79433\n",
       "18        lowestoft  52.48323\n",
       "9        cwmystwyth  52.35817\n",
       "6         cambridge  52.24501\n",
       "0         aberporth  52.13914\n",
       "25        rossonwye  51.91075\n",
       "22           oxford  51.76073\n",
       "7           cardiff  51.48783\n",
       "14         heathrow  51.47872\n",
       "19          manston  51.34597\n",
       "8          chivenor  51.08865\n",
       "36        yeovilton  51.00586\n",
       "28      southampton  50.89822\n",
       "15             hurn  50.77890\n",
       "12       eastbourne  50.76167\n",
       "5          camborne  50.21782"
      ]
     },
     "execution_count": 3,
     "metadata": {},
     "output_type": "execute_result"
    }
   ],
   "source": [
    "# lists with the latitudes and stations\n",
    "\n",
    "list_latitude = [52.13914, 54.35234, 55.18062, 53.81341, 57.00612, 50.21782, 52.24501, 51.48783, 51.08865, 52.35817,\n",
    "    56.45054, 54.76786, 50.76167, 55.311, 51.47872, 50.7789, 60.13946, 56.37745, 52.48323, 51.34597,\n",
    "    57.593, 54.6699, 51.76073, 55.8455, 53.356, 51.91075, 52.79433, 53.38101, 50.89822, 58.21382,\n",
    "    52.8331, 56.49999, 53.25238, 53.17509, 54.48073, 58.45406, 51.00586]\n",
    "list_stations = ['aberporth', 'armagh', 'ballypatrick', 'bradford', 'braemar', 'camborne', 'cambridge', 'cardiff', \n",
    "                 'chivenor', 'cwmystwyth', 'dunstaffnage', 'durham', 'eastbourne', 'eskdalemuir', 'heathrow', \n",
    "                 'hurn', 'lerwick', 'leuchars', 'lowestoft', 'manston', 'nairn', 'newtonrigg', 'oxford', 'paisley', \n",
    "                 'ringway', 'rossonwye', 'shawbury', 'sheffield', 'southampton', 'stornoway', 'suttonbonington', \n",
    "                 'tiree', 'valley', 'waddington', 'whitby', 'wickairport', 'yeovilton']\n",
    "\n",
    "# Create a dictionary with list_stations and list_latitude as values\n",
    "data = {'station': list_stations, 'latitude': list_latitude}\n",
    "\n",
    "# Create a DataFrame from the dictionary\n",
    "stat_lat= pd.DataFrame(data)\n",
    "stat_lat.sort_values(by='latitude', ascending=False)"
   ]
  },
  {
   "cell_type": "markdown",
   "metadata": {},
   "source": [
    "We merge both datafraes. Now we have in our previously created 10 years weather dataset the variable latitude "
   ]
  },
  {
   "cell_type": "code",
   "execution_count": 4,
   "metadata": {},
   "outputs": [
    {
     "data": {
      "text/html": [
       "<div>\n",
       "<style scoped>\n",
       "    .dataframe tbody tr th:only-of-type {\n",
       "        vertical-align: middle;\n",
       "    }\n",
       "\n",
       "    .dataframe tbody tr th {\n",
       "        vertical-align: top;\n",
       "    }\n",
       "\n",
       "    .dataframe thead th {\n",
       "        text-align: right;\n",
       "    }\n",
       "</style>\n",
       "<table border=\"1\" class=\"dataframe\">\n",
       "  <thead>\n",
       "    <tr style=\"text-align: right;\">\n",
       "      <th></th>\n",
       "      <th>yyyy</th>\n",
       "      <th>mm</th>\n",
       "      <th>tmax</th>\n",
       "      <th>tmin</th>\n",
       "      <th>af</th>\n",
       "      <th>rain</th>\n",
       "      <th>sun</th>\n",
       "      <th>station</th>\n",
       "      <th>latitude</th>\n",
       "    </tr>\n",
       "  </thead>\n",
       "  <tbody>\n",
       "    <tr>\n",
       "      <th>0</th>\n",
       "      <td>2013.0</td>\n",
       "      <td>1</td>\n",
       "      <td>6.8</td>\n",
       "      <td>3.1</td>\n",
       "      <td>10.0</td>\n",
       "      <td>74.1</td>\n",
       "      <td>47.4</td>\n",
       "      <td>aberporth</td>\n",
       "      <td>52.13914</td>\n",
       "    </tr>\n",
       "    <tr>\n",
       "      <th>1</th>\n",
       "      <td>2013.0</td>\n",
       "      <td>2</td>\n",
       "      <td>6.7</td>\n",
       "      <td>2.0</td>\n",
       "      <td>4.0</td>\n",
       "      <td>60.4</td>\n",
       "      <td>90.5</td>\n",
       "      <td>aberporth</td>\n",
       "      <td>52.13914</td>\n",
       "    </tr>\n",
       "    <tr>\n",
       "      <th>2</th>\n",
       "      <td>2013.0</td>\n",
       "      <td>3</td>\n",
       "      <td>6.6</td>\n",
       "      <td>1.0</td>\n",
       "      <td>13.0</td>\n",
       "      <td>40.0</td>\n",
       "      <td>127.3</td>\n",
       "      <td>aberporth</td>\n",
       "      <td>52.13914</td>\n",
       "    </tr>\n",
       "    <tr>\n",
       "      <th>3</th>\n",
       "      <td>2013.0</td>\n",
       "      <td>4</td>\n",
       "      <td>10.3</td>\n",
       "      <td>4.3</td>\n",
       "      <td>5.0</td>\n",
       "      <td>33.4</td>\n",
       "      <td>184.2</td>\n",
       "      <td>aberporth</td>\n",
       "      <td>52.13914</td>\n",
       "    </tr>\n",
       "    <tr>\n",
       "      <th>4</th>\n",
       "      <td>2013.0</td>\n",
       "      <td>5</td>\n",
       "      <td>12.2</td>\n",
       "      <td>6.4</td>\n",
       "      <td>0.0</td>\n",
       "      <td>60.8</td>\n",
       "      <td>196.9</td>\n",
       "      <td>aberporth</td>\n",
       "      <td>52.13914</td>\n",
       "    </tr>\n",
       "  </tbody>\n",
       "</table>\n",
       "</div>"
      ],
      "text/plain": [
       "     yyyy  mm  tmax  tmin    af  rain    sun    station  latitude\n",
       "0  2013.0   1   6.8   3.1  10.0  74.1   47.4  aberporth  52.13914\n",
       "1  2013.0   2   6.7   2.0   4.0  60.4   90.5  aberporth  52.13914\n",
       "2  2013.0   3   6.6   1.0  13.0  40.0  127.3  aberporth  52.13914\n",
       "3  2013.0   4  10.3   4.3   5.0  33.4  184.2  aberporth  52.13914\n",
       "4  2013.0   5  12.2   6.4   0.0  60.8  196.9  aberporth  52.13914"
      ]
     },
     "execution_count": 4,
     "metadata": {},
     "output_type": "execute_result"
    }
   ],
   "source": [
    "# we merge both list and now have our original data with the latitude of the stations\n",
    "uk10lat = pd.merge(uk10data,stat_lat,on='station', how='left')\n",
    "uk10lat.head()"
   ]
  },
  {
   "cell_type": "code",
   "execution_count": 5,
   "metadata": {},
   "outputs": [
    {
     "data": {
      "text/plain": [
       "50.21782"
      ]
     },
     "execution_count": 5,
     "metadata": {},
     "output_type": "execute_result"
    }
   ],
   "source": [
    "uk10lat['latitude'].min()"
   ]
  },
  {
   "cell_type": "code",
   "execution_count": 6,
   "metadata": {},
   "outputs": [
    {
     "data": {
      "text/plain": [
       "52.24501"
      ]
     },
     "execution_count": 6,
     "metadata": {},
     "output_type": "execute_result"
    }
   ],
   "source": [
    "uk10lat['latitude'].quantile(1/3)"
   ]
  },
  {
   "cell_type": "code",
   "execution_count": 7,
   "metadata": {},
   "outputs": [
    {
     "data": {
      "text/plain": [
       "54.6699"
      ]
     },
     "execution_count": 7,
     "metadata": {},
     "output_type": "execute_result"
    }
   ],
   "source": [
    "uk10lat['latitude'].quantile(2/3)"
   ]
  },
  {
   "cell_type": "code",
   "execution_count": 8,
   "metadata": {},
   "outputs": [
    {
     "data": {
      "text/plain": [
       "60.13946"
      ]
     },
     "execution_count": 8,
     "metadata": {},
     "output_type": "execute_result"
    }
   ],
   "source": [
    "uk10lat['latitude'].max()"
   ]
  },
  {
   "cell_type": "code",
   "execution_count": 9,
   "metadata": {},
   "outputs": [
    {
     "name": "stdout",
     "output_type": "stream",
     "text": [
      "        yyyy  mm  tmax  tmin    af   rain    sun    station  latitude   area\n",
      "0     2013.0   1   6.8   3.1  10.0   74.1   47.4  aberporth  52.13914  South\n",
      "1     2013.0   2   6.7   2.0   4.0   60.4   90.5  aberporth  52.13914  South\n",
      "2     2013.0   3   6.6   1.0  13.0   40.0  127.3  aberporth  52.13914  South\n",
      "3     2013.0   4  10.3   4.3   5.0   33.4  184.2  aberporth  52.13914  South\n",
      "4     2013.0   5  12.2   6.4   0.0   60.8  196.9  aberporth  52.13914  South\n",
      "...      ...  ..   ...   ...   ...    ...    ...        ...       ...    ...\n",
      "4423  2022.0   8  25.7  12.8   0.0   15.4  225.0  yeovilton  51.00586  South\n",
      "4424  2022.0   9  19.8   9.9   0.0   57.4  122.3  yeovilton  51.00586  South\n",
      "4425  2022.0  10  17.9   9.8   1.0  111.2    NaN  yeovilton  51.00586  South\n",
      "4426  2022.0  11  13.2   6.9   1.0  131.8   80.4  yeovilton  51.00586  South\n",
      "4427  2022.0  12   7.8   0.4  13.0   81.4   54.1  yeovilton  51.00586  South\n",
      "\n",
      "[4428 rows x 10 columns]\n"
     ]
    }
   ],
   "source": [
    "# Define the latitude bins and labels\n",
    "bins = [50, 52.3, 55, 61]\n",
    "\n",
    "# labels for each group\n",
    "labels = [\"South\",\"Central\", \"North\"]\n",
    "\n",
    "# Add a new column with latitude groups\n",
    "uk10lat['area'] = pd.cut(uk10lat['latitude'], bins=bins, labels=labels)\n",
    "\n",
    "# Display the updated DataFrame\n",
    "print(uk10lat)"
   ]
  },
  {
   "cell_type": "markdown",
   "metadata": {},
   "source": [
    "### Some Exploratory Data Analysis"
   ]
  },
  {
   "cell_type": "markdown",
   "metadata": {},
   "source": [
    "Summary to see if there are any outliers, exploration for missing values and some basic visualizations. Important to see if the target classes are well balanced."
   ]
  },
  {
   "cell_type": "code",
   "execution_count": 10,
   "metadata": {},
   "outputs": [
    {
     "data": {
      "text/html": [
       "<div>\n",
       "<style scoped>\n",
       "    .dataframe tbody tr th:only-of-type {\n",
       "        vertical-align: middle;\n",
       "    }\n",
       "\n",
       "    .dataframe tbody tr th {\n",
       "        vertical-align: top;\n",
       "    }\n",
       "\n",
       "    .dataframe thead th {\n",
       "        text-align: right;\n",
       "    }\n",
       "</style>\n",
       "<table border=\"1\" class=\"dataframe\">\n",
       "  <thead>\n",
       "    <tr style=\"text-align: right;\">\n",
       "      <th></th>\n",
       "      <th>yyyy</th>\n",
       "      <th>mm</th>\n",
       "      <th>tmax</th>\n",
       "      <th>tmin</th>\n",
       "      <th>af</th>\n",
       "      <th>rain</th>\n",
       "      <th>sun</th>\n",
       "      <th>latitude</th>\n",
       "    </tr>\n",
       "  </thead>\n",
       "  <tbody>\n",
       "    <tr>\n",
       "      <th>count</th>\n",
       "      <td>4428.000000</td>\n",
       "      <td>4428.000000</td>\n",
       "      <td>4354.000000</td>\n",
       "      <td>4380.000000</td>\n",
       "      <td>4378.000000</td>\n",
       "      <td>4395.000000</td>\n",
       "      <td>2983.000000</td>\n",
       "      <td>4428.000000</td>\n",
       "    </tr>\n",
       "    <tr>\n",
       "      <th>mean</th>\n",
       "      <td>2016.002710</td>\n",
       "      <td>6.500000</td>\n",
       "      <td>13.716559</td>\n",
       "      <td>6.611005</td>\n",
       "      <td>2.773641</td>\n",
       "      <td>78.489488</td>\n",
       "      <td>122.452129</td>\n",
       "      <td>53.785164</td>\n",
       "    </tr>\n",
       "    <tr>\n",
       "      <th>std</th>\n",
       "      <td>6.019845</td>\n",
       "      <td>3.452442</td>\n",
       "      <td>5.040405</td>\n",
       "      <td>4.066171</td>\n",
       "      <td>4.429961</td>\n",
       "      <td>54.313858</td>\n",
       "      <td>64.817662</td>\n",
       "      <td>2.490520</td>\n",
       "    </tr>\n",
       "    <tr>\n",
       "      <th>min</th>\n",
       "      <td>1989.000000</td>\n",
       "      <td>1.000000</td>\n",
       "      <td>2.200000</td>\n",
       "      <td>-4.600000</td>\n",
       "      <td>0.000000</td>\n",
       "      <td>0.000000</td>\n",
       "      <td>7.900000</td>\n",
       "      <td>50.217820</td>\n",
       "    </tr>\n",
       "    <tr>\n",
       "      <th>25%</th>\n",
       "      <td>2014.000000</td>\n",
       "      <td>3.750000</td>\n",
       "      <td>9.400000</td>\n",
       "      <td>3.200000</td>\n",
       "      <td>0.000000</td>\n",
       "      <td>40.400000</td>\n",
       "      <td>68.000000</td>\n",
       "      <td>51.760730</td>\n",
       "    </tr>\n",
       "    <tr>\n",
       "      <th>50%</th>\n",
       "      <td>2017.000000</td>\n",
       "      <td>6.500000</td>\n",
       "      <td>13.300000</td>\n",
       "      <td>6.200000</td>\n",
       "      <td>0.000000</td>\n",
       "      <td>66.000000</td>\n",
       "      <td>116.000000</td>\n",
       "      <td>53.252380</td>\n",
       "    </tr>\n",
       "    <tr>\n",
       "      <th>75%</th>\n",
       "      <td>2020.000000</td>\n",
       "      <td>9.250000</td>\n",
       "      <td>17.800000</td>\n",
       "      <td>10.200000</td>\n",
       "      <td>4.000000</td>\n",
       "      <td>102.600000</td>\n",
       "      <td>168.750000</td>\n",
       "      <td>55.311000</td>\n",
       "    </tr>\n",
       "    <tr>\n",
       "      <th>max</th>\n",
       "      <td>2022.000000</td>\n",
       "      <td>12.000000</td>\n",
       "      <td>28.300000</td>\n",
       "      <td>16.400000</td>\n",
       "      <td>26.000000</td>\n",
       "      <td>568.800000</td>\n",
       "      <td>339.500000</td>\n",
       "      <td>60.139460</td>\n",
       "    </tr>\n",
       "  </tbody>\n",
       "</table>\n",
       "</div>"
      ],
      "text/plain": [
       "              yyyy           mm         tmax         tmin           af  \\\n",
       "count  4428.000000  4428.000000  4354.000000  4380.000000  4378.000000   \n",
       "mean   2016.002710     6.500000    13.716559     6.611005     2.773641   \n",
       "std       6.019845     3.452442     5.040405     4.066171     4.429961   \n",
       "min    1989.000000     1.000000     2.200000    -4.600000     0.000000   \n",
       "25%    2014.000000     3.750000     9.400000     3.200000     0.000000   \n",
       "50%    2017.000000     6.500000    13.300000     6.200000     0.000000   \n",
       "75%    2020.000000     9.250000    17.800000    10.200000     4.000000   \n",
       "max    2022.000000    12.000000    28.300000    16.400000    26.000000   \n",
       "\n",
       "              rain          sun     latitude  \n",
       "count  4395.000000  2983.000000  4428.000000  \n",
       "mean     78.489488   122.452129    53.785164  \n",
       "std      54.313858    64.817662     2.490520  \n",
       "min       0.000000     7.900000    50.217820  \n",
       "25%      40.400000    68.000000    51.760730  \n",
       "50%      66.000000   116.000000    53.252380  \n",
       "75%     102.600000   168.750000    55.311000  \n",
       "max     568.800000   339.500000    60.139460  "
      ]
     },
     "execution_count": 10,
     "metadata": {},
     "output_type": "execute_result"
    }
   ],
   "source": [
    "# data types and summary stats.\n",
    "uk10lat.describe()"
   ]
  },
  {
   "cell_type": "code",
   "execution_count": 11,
   "metadata": {
    "scrolled": false
   },
   "outputs": [
    {
     "data": {
      "text/plain": [
       "yyyy           0\n",
       "mm             0\n",
       "tmax          74\n",
       "tmin          48\n",
       "af            50\n",
       "rain          33\n",
       "sun         1445\n",
       "station        0\n",
       "latitude       0\n",
       "area           0\n",
       "dtype: int64"
      ]
     },
     "execution_count": 11,
     "metadata": {},
     "output_type": "execute_result"
    }
   ],
   "source": [
    "# count the nulls/missing data in each column\n",
    "# not too bad - we might need to fill/delete these rows later\n",
    "uk10lat.isnull().sum()"
   ]
  },
  {
   "cell_type": "code",
   "execution_count": 12,
   "metadata": {
    "scrolled": true
   },
   "outputs": [
    {
     "data": {
      "text/plain": [
       "array([[<Axes: title={'center': 'yyyy'}>, <Axes: title={'center': 'mm'}>,\n",
       "        <Axes: title={'center': 'tmax'}>],\n",
       "       [<Axes: title={'center': 'tmin'}>, <Axes: title={'center': 'af'}>,\n",
       "        <Axes: title={'center': 'rain'}>],\n",
       "       [<Axes: title={'center': 'sun'}>,\n",
       "        <Axes: title={'center': 'latitude'}>, <Axes: >]], dtype=object)"
      ]
     },
     "execution_count": 12,
     "metadata": {},
     "output_type": "execute_result"
    },
    {
     "data": {
      "image/png": "[encoded data removed]",
      "text/plain": [
       "<Figure size 800x700 with 9 Axes>"
      ]
     },
     "metadata": {},
     "output_type": "display_data"
    }
   ],
   "source": [
    "# Plot distributions...\n",
    "uk10lat.hist(figsize = (8,7), color=\"#479a9f\")"
   ]
  },
  {
   "cell_type": "code",
   "execution_count": 13,
   "metadata": {
    "scrolled": true
   },
   "outputs": [
    {
     "data": {
      "text/plain": [
       "<Axes: >"
      ]
     },
     "execution_count": 13,
     "metadata": {},
     "output_type": "execute_result"
    },
    {
     "data": {
      "image/png": "[encoded data removed]",
      "text/plain": [
       "<Figure size 300x200 with 1 Axes>"
      ]
     },
     "metadata": {},
     "output_type": "display_data"
    }
   ],
   "source": [
    "# We can see the three classes in the target variable  are well balanced\n",
    "uk10lat\n",
    "uk10lat['area'].value_counts().plot(kind='barh', color=\"#fabe31\", figsize=(3,2))\n",
    "                                   "
   ]
  },
  {
   "cell_type": "markdown",
   "metadata": {},
   "source": [
    "### Select features for modeling"
   ]
  },
  {
   "cell_type": "markdown",
   "metadata": {},
   "source": [
    "At this point we can discard variables we don´t need for the modeling. I eliminated \"yyyy\" as it doesn´t apport too much information and \"latitude\" as it is the variable we have used to create the target feature. I also eliminate the variable \"sun\" as it has more than 30% of missing values and anyway it is probable highly correlated with the variable \"rain\" . We can select the features by referring to the data frame using a list containing the features names we want:"
   ]
  },
  {
   "cell_type": "code",
   "execution_count": 14,
   "metadata": {},
   "outputs": [
    {
     "data": {
      "text/html": [
       "<div>\n",
       "<style scoped>\n",
       "    .dataframe tbody tr th:only-of-type {\n",
       "        vertical-align: middle;\n",
       "    }\n",
       "\n",
       "    .dataframe tbody tr th {\n",
       "        vertical-align: top;\n",
       "    }\n",
       "\n",
       "    .dataframe thead th {\n",
       "        text-align: right;\n",
       "    }\n",
       "</style>\n",
       "<table border=\"1\" class=\"dataframe\">\n",
       "  <thead>\n",
       "    <tr style=\"text-align: right;\">\n",
       "      <th></th>\n",
       "      <th>mm</th>\n",
       "      <th>tmax</th>\n",
       "      <th>tmin</th>\n",
       "      <th>af</th>\n",
       "      <th>rain</th>\n",
       "      <th>area</th>\n",
       "    </tr>\n",
       "  </thead>\n",
       "  <tbody>\n",
       "    <tr>\n",
       "      <th>0</th>\n",
       "      <td>1</td>\n",
       "      <td>6.8</td>\n",
       "      <td>3.1</td>\n",
       "      <td>10.0</td>\n",
       "      <td>74.1</td>\n",
       "      <td>South</td>\n",
       "    </tr>\n",
       "    <tr>\n",
       "      <th>1</th>\n",
       "      <td>2</td>\n",
       "      <td>6.7</td>\n",
       "      <td>2.0</td>\n",
       "      <td>4.0</td>\n",
       "      <td>60.4</td>\n",
       "      <td>South</td>\n",
       "    </tr>\n",
       "    <tr>\n",
       "      <th>2</th>\n",
       "      <td>3</td>\n",
       "      <td>6.6</td>\n",
       "      <td>1.0</td>\n",
       "      <td>13.0</td>\n",
       "      <td>40.0</td>\n",
       "      <td>South</td>\n",
       "    </tr>\n",
       "    <tr>\n",
       "      <th>3</th>\n",
       "      <td>4</td>\n",
       "      <td>10.3</td>\n",
       "      <td>4.3</td>\n",
       "      <td>5.0</td>\n",
       "      <td>33.4</td>\n",
       "      <td>South</td>\n",
       "    </tr>\n",
       "    <tr>\n",
       "      <th>4</th>\n",
       "      <td>5</td>\n",
       "      <td>12.2</td>\n",
       "      <td>6.4</td>\n",
       "      <td>0.0</td>\n",
       "      <td>60.8</td>\n",
       "      <td>South</td>\n",
       "    </tr>\n",
       "    <tr>\n",
       "      <th>...</th>\n",
       "      <td>...</td>\n",
       "      <td>...</td>\n",
       "      <td>...</td>\n",
       "      <td>...</td>\n",
       "      <td>...</td>\n",
       "      <td>...</td>\n",
       "    </tr>\n",
       "    <tr>\n",
       "      <th>4423</th>\n",
       "      <td>8</td>\n",
       "      <td>25.7</td>\n",
       "      <td>12.8</td>\n",
       "      <td>0.0</td>\n",
       "      <td>15.4</td>\n",
       "      <td>South</td>\n",
       "    </tr>\n",
       "    <tr>\n",
       "      <th>4424</th>\n",
       "      <td>9</td>\n",
       "      <td>19.8</td>\n",
       "      <td>9.9</td>\n",
       "      <td>0.0</td>\n",
       "      <td>57.4</td>\n",
       "      <td>South</td>\n",
       "    </tr>\n",
       "    <tr>\n",
       "      <th>4425</th>\n",
       "      <td>10</td>\n",
       "      <td>17.9</td>\n",
       "      <td>9.8</td>\n",
       "      <td>1.0</td>\n",
       "      <td>111.2</td>\n",
       "      <td>South</td>\n",
       "    </tr>\n",
       "    <tr>\n",
       "      <th>4426</th>\n",
       "      <td>11</td>\n",
       "      <td>13.2</td>\n",
       "      <td>6.9</td>\n",
       "      <td>1.0</td>\n",
       "      <td>131.8</td>\n",
       "      <td>South</td>\n",
       "    </tr>\n",
       "    <tr>\n",
       "      <th>4427</th>\n",
       "      <td>12</td>\n",
       "      <td>7.8</td>\n",
       "      <td>0.4</td>\n",
       "      <td>13.0</td>\n",
       "      <td>81.4</td>\n",
       "      <td>South</td>\n",
       "    </tr>\n",
       "  </tbody>\n",
       "</table>\n",
       "<p>4428 rows × 6 columns</p>\n",
       "</div>"
      ],
      "text/plain": [
       "      mm  tmax  tmin    af   rain   area\n",
       "0      1   6.8   3.1  10.0   74.1  South\n",
       "1      2   6.7   2.0   4.0   60.4  South\n",
       "2      3   6.6   1.0  13.0   40.0  South\n",
       "3      4  10.3   4.3   5.0   33.4  South\n",
       "4      5  12.2   6.4   0.0   60.8  South\n",
       "...   ..   ...   ...   ...    ...    ...\n",
       "4423   8  25.7  12.8   0.0   15.4  South\n",
       "4424   9  19.8   9.9   0.0   57.4  South\n",
       "4425  10  17.9   9.8   1.0  111.2  South\n",
       "4426  11  13.2   6.9   1.0  131.8  South\n",
       "4427  12   7.8   0.4  13.0   81.4  South\n",
       "\n",
       "[4428 rows x 6 columns]"
      ]
     },
     "execution_count": 14,
     "metadata": {},
     "output_type": "execute_result"
    }
   ],
   "source": [
    "# define the list\n",
    "selected_features = [\"mm\",\"tmax\",\"tmin\",\"af\",\"rain\",\"area\"]\n",
    "# use only the selected features in the list\n",
    "weather_df = uk10lat[selected_features]\n",
    "weather_df"
   ]
  },
  {
   "cell_type": "markdown",
   "metadata": {},
   "source": [
    "### Experiment  with PyCaret"
   ]
  },
  {
   "cell_type": "markdown",
   "metadata": {},
   "source": [
    "Although pyCaret will do the train_test_split, as we have enough data for it , we are going to hold a proportion of the data from the original dataset to be used for predictions in a final test to double check the algorithm is working in totally unseen data. After this split, we still have 3542 instances for the modellling. "
   ]
  },
  {
   "cell_type": "code",
   "execution_count": 15,
   "metadata": {},
   "outputs": [
    {
     "name": "stdout",
     "output_type": "stream",
     "text": [
      "Data for Modeling: (3542, 6)\n",
      "Unseen Data For Predictions: (886, 6)\n"
     ]
    }
   ],
   "source": [
    "#split the data: one set for modeling and another set for the final test\n",
    "modeling_data = weather_df.sample(frac=0.8, random_state=42).reset_index(drop=True)\n",
    "unseen_data= weather_df.drop(modeling_data.index).reset_index(drop=True)\n",
    "\n",
    "print('Data for Modeling: ' + str(modeling_data.shape))\n",
    "print('Unseen Data For Predictions: ' + str(unseen_data.shape))"
   ]
  },
  {
   "cell_type": "code",
   "execution_count": 16,
   "metadata": {},
   "outputs": [
    {
     "data": {
      "text/html": [
       "<div>\n",
       "<style scoped>\n",
       "    .dataframe tbody tr th:only-of-type {\n",
       "        vertical-align: middle;\n",
       "    }\n",
       "\n",
       "    .dataframe tbody tr th {\n",
       "        vertical-align: top;\n",
       "    }\n",
       "\n",
       "    .dataframe thead th {\n",
       "        text-align: right;\n",
       "    }\n",
       "</style>\n",
       "<table border=\"1\" class=\"dataframe\">\n",
       "  <thead>\n",
       "    <tr style=\"text-align: right;\">\n",
       "      <th></th>\n",
       "      <th>mm</th>\n",
       "      <th>tmax</th>\n",
       "      <th>tmin</th>\n",
       "      <th>af</th>\n",
       "      <th>rain</th>\n",
       "      <th>area</th>\n",
       "    </tr>\n",
       "  </thead>\n",
       "  <tbody>\n",
       "    <tr>\n",
       "      <th>0</th>\n",
       "      <td>3</td>\n",
       "      <td>8.8</td>\n",
       "      <td>3.8</td>\n",
       "      <td>1.0</td>\n",
       "      <td>142.0</td>\n",
       "      <td>North</td>\n",
       "    </tr>\n",
       "    <tr>\n",
       "      <th>1</th>\n",
       "      <td>4</td>\n",
       "      <td>12.5</td>\n",
       "      <td>5.8</td>\n",
       "      <td>0.0</td>\n",
       "      <td>44.2</td>\n",
       "      <td>North</td>\n",
       "    </tr>\n",
       "    <tr>\n",
       "      <th>2</th>\n",
       "      <td>5</td>\n",
       "      <td>12.0</td>\n",
       "      <td>5.8</td>\n",
       "      <td>1.0</td>\n",
       "      <td>61.2</td>\n",
       "      <td>North</td>\n",
       "    </tr>\n",
       "    <tr>\n",
       "      <th>3</th>\n",
       "      <td>6</td>\n",
       "      <td>14.4</td>\n",
       "      <td>9.2</td>\n",
       "      <td>0.0</td>\n",
       "      <td>77.8</td>\n",
       "      <td>North</td>\n",
       "    </tr>\n",
       "    <tr>\n",
       "      <th>4</th>\n",
       "      <td>7</td>\n",
       "      <td>17.6</td>\n",
       "      <td>12.2</td>\n",
       "      <td>0.0</td>\n",
       "      <td>90.0</td>\n",
       "      <td>North</td>\n",
       "    </tr>\n",
       "  </tbody>\n",
       "</table>\n",
       "</div>"
      ],
      "text/plain": [
       "   mm  tmax  tmin   af   rain   area\n",
       "0   3   8.8   3.8  1.0  142.0  North\n",
       "1   4  12.5   5.8  0.0   44.2  North\n",
       "2   5  12.0   5.8  1.0   61.2  North\n",
       "3   6  14.4   9.2  0.0   77.8  North\n",
       "4   7  17.6  12.2  0.0   90.0  North"
      ]
     },
     "execution_count": 16,
     "metadata": {},
     "output_type": "execute_result"
    }
   ],
   "source": [
    "unseen_data.head()"
   ]
  },
  {
   "cell_type": "code",
   "execution_count": 17,
   "metadata": {
    "scrolled": true
   },
   "outputs": [],
   "source": [
    "# Import pycaret libraries for classification tasks\n",
    "from pycaret.classification import *"
   ]
  },
  {
   "cell_type": "code",
   "execution_count": 18,
   "metadata": {
    "scrolled": true
   },
   "outputs": [
    {
     "data": {
      "text/html": [
       "<style type=\"text/css\">\n",
       "#T_70a46_row11_col1 {\n",
       "  background-color: lightgreen;\n",
       "}\n",
       "</style>\n",
       "<table id=\"T_70a46\">\n",
       "  <thead>\n",
       "    <tr>\n",
       "      <th class=\"blank level0\" >&nbsp;</th>\n",
       "      <th id=\"T_70a46_level0_col0\" class=\"col_heading level0 col0\" >Description</th>\n",
       "      <th id=\"T_70a46_level0_col1\" class=\"col_heading level0 col1\" >Value</th>\n",
       "    </tr>\n",
       "  </thead>\n",
       "  <tbody>\n",
       "    <tr>\n",
       "      <th id=\"T_70a46_level0_row0\" class=\"row_heading level0 row0\" >0</th>\n",
       "      <td id=\"T_70a46_row0_col0\" class=\"data row0 col0\" >Session id</td>\n",
       "      <td id=\"T_70a46_row0_col1\" class=\"data row0 col1\" >28</td>\n",
       "    </tr>\n",
       "    <tr>\n",
       "      <th id=\"T_70a46_level0_row1\" class=\"row_heading level0 row1\" >1</th>\n",
       "      <td id=\"T_70a46_row1_col0\" class=\"data row1 col0\" >Target</td>\n",
       "      <td id=\"T_70a46_row1_col1\" class=\"data row1 col1\" >area</td>\n",
       "    </tr>\n",
       "    <tr>\n",
       "      <th id=\"T_70a46_level0_row2\" class=\"row_heading level0 row2\" >2</th>\n",
       "      <td id=\"T_70a46_row2_col0\" class=\"data row2 col0\" >Target type</td>\n",
       "      <td id=\"T_70a46_row2_col1\" class=\"data row2 col1\" >Multiclass</td>\n",
       "    </tr>\n",
       "    <tr>\n",
       "      <th id=\"T_70a46_level0_row3\" class=\"row_heading level0 row3\" >3</th>\n",
       "      <td id=\"T_70a46_row3_col0\" class=\"data row3 col0\" >Target mapping</td>\n",
       "      <td id=\"T_70a46_row3_col1\" class=\"data row3 col1\" >Central: 0, North: 1, South: 2</td>\n",
       "    </tr>\n",
       "    <tr>\n",
       "      <th id=\"T_70a46_level0_row4\" class=\"row_heading level0 row4\" >4</th>\n",
       "      <td id=\"T_70a46_row4_col0\" class=\"data row4 col0\" >Original data shape</td>\n",
       "      <td id=\"T_70a46_row4_col1\" class=\"data row4 col1\" >(3542, 6)</td>\n",
       "    </tr>\n",
       "    <tr>\n",
       "      <th id=\"T_70a46_level0_row5\" class=\"row_heading level0 row5\" >5</th>\n",
       "      <td id=\"T_70a46_row5_col0\" class=\"data row5 col0\" >Transformed data shape</td>\n",
       "      <td id=\"T_70a46_row5_col1\" class=\"data row5 col1\" >(3542, 17)</td>\n",
       "    </tr>\n",
       "    <tr>\n",
       "      <th id=\"T_70a46_level0_row6\" class=\"row_heading level0 row6\" >6</th>\n",
       "      <td id=\"T_70a46_row6_col0\" class=\"data row6 col0\" >Transformed train set shape</td>\n",
       "      <td id=\"T_70a46_row6_col1\" class=\"data row6 col1\" >(2479, 17)</td>\n",
       "    </tr>\n",
       "    <tr>\n",
       "      <th id=\"T_70a46_level0_row7\" class=\"row_heading level0 row7\" >7</th>\n",
       "      <td id=\"T_70a46_row7_col0\" class=\"data row7 col0\" >Transformed test set shape</td>\n",
       "      <td id=\"T_70a46_row7_col1\" class=\"data row7 col1\" >(1063, 17)</td>\n",
       "    </tr>\n",
       "    <tr>\n",
       "      <th id=\"T_70a46_level0_row8\" class=\"row_heading level0 row8\" >8</th>\n",
       "      <td id=\"T_70a46_row8_col0\" class=\"data row8 col0\" >Numeric features</td>\n",
       "      <td id=\"T_70a46_row8_col1\" class=\"data row8 col1\" >4</td>\n",
       "    </tr>\n",
       "    <tr>\n",
       "      <th id=\"T_70a46_level0_row9\" class=\"row_heading level0 row9\" >9</th>\n",
       "      <td id=\"T_70a46_row9_col0\" class=\"data row9 col0\" >Categorical features</td>\n",
       "      <td id=\"T_70a46_row9_col1\" class=\"data row9 col1\" >1</td>\n",
       "    </tr>\n",
       "    <tr>\n",
       "      <th id=\"T_70a46_level0_row10\" class=\"row_heading level0 row10\" >10</th>\n",
       "      <td id=\"T_70a46_row10_col0\" class=\"data row10 col0\" >Rows with missing values</td>\n",
       "      <td id=\"T_70a46_row10_col1\" class=\"data row10 col1\" >2.1%</td>\n",
       "    </tr>\n",
       "    <tr>\n",
       "      <th id=\"T_70a46_level0_row11\" class=\"row_heading level0 row11\" >11</th>\n",
       "      <td id=\"T_70a46_row11_col0\" class=\"data row11 col0\" >Preprocess</td>\n",
       "      <td id=\"T_70a46_row11_col1\" class=\"data row11 col1\" >True</td>\n",
       "    </tr>\n",
       "    <tr>\n",
       "      <th id=\"T_70a46_level0_row12\" class=\"row_heading level0 row12\" >12</th>\n",
       "      <td id=\"T_70a46_row12_col0\" class=\"data row12 col0\" >Imputation type</td>\n",
       "      <td id=\"T_70a46_row12_col1\" class=\"data row12 col1\" >simple</td>\n",
       "    </tr>\n",
       "    <tr>\n",
       "      <th id=\"T_70a46_level0_row13\" class=\"row_heading level0 row13\" >13</th>\n",
       "      <td id=\"T_70a46_row13_col0\" class=\"data row13 col0\" >Numeric imputation</td>\n",
       "      <td id=\"T_70a46_row13_col1\" class=\"data row13 col1\" >mean</td>\n",
       "    </tr>\n",
       "    <tr>\n",
       "      <th id=\"T_70a46_level0_row14\" class=\"row_heading level0 row14\" >14</th>\n",
       "      <td id=\"T_70a46_row14_col0\" class=\"data row14 col0\" >Categorical imputation</td>\n",
       "      <td id=\"T_70a46_row14_col1\" class=\"data row14 col1\" >mode</td>\n",
       "    </tr>\n",
       "    <tr>\n",
       "      <th id=\"T_70a46_level0_row15\" class=\"row_heading level0 row15\" >15</th>\n",
       "      <td id=\"T_70a46_row15_col0\" class=\"data row15 col0\" >Maximum one-hot encoding</td>\n",
       "      <td id=\"T_70a46_row15_col1\" class=\"data row15 col1\" >25</td>\n",
       "    </tr>\n",
       "    <tr>\n",
       "      <th id=\"T_70a46_level0_row16\" class=\"row_heading level0 row16\" >16</th>\n",
       "      <td id=\"T_70a46_row16_col0\" class=\"data row16 col0\" >Encoding method</td>\n",
       "      <td id=\"T_70a46_row16_col1\" class=\"data row16 col1\" >None</td>\n",
       "    </tr>\n",
       "    <tr>\n",
       "      <th id=\"T_70a46_level0_row17\" class=\"row_heading level0 row17\" >17</th>\n",
       "      <td id=\"T_70a46_row17_col0\" class=\"data row17 col0\" >Fold Generator</td>\n",
       "      <td id=\"T_70a46_row17_col1\" class=\"data row17 col1\" >StratifiedKFold</td>\n",
       "    </tr>\n",
       "    <tr>\n",
       "      <th id=\"T_70a46_level0_row18\" class=\"row_heading level0 row18\" >18</th>\n",
       "      <td id=\"T_70a46_row18_col0\" class=\"data row18 col0\" >Fold Number</td>\n",
       "      <td id=\"T_70a46_row18_col1\" class=\"data row18 col1\" >5</td>\n",
       "    </tr>\n",
       "    <tr>\n",
       "      <th id=\"T_70a46_level0_row19\" class=\"row_heading level0 row19\" >19</th>\n",
       "      <td id=\"T_70a46_row19_col0\" class=\"data row19 col0\" >CPU Jobs</td>\n",
       "      <td id=\"T_70a46_row19_col1\" class=\"data row19 col1\" >-1</td>\n",
       "    </tr>\n",
       "    <tr>\n",
       "      <th id=\"T_70a46_level0_row20\" class=\"row_heading level0 row20\" >20</th>\n",
       "      <td id=\"T_70a46_row20_col0\" class=\"data row20 col0\" >Use GPU</td>\n",
       "      <td id=\"T_70a46_row20_col1\" class=\"data row20 col1\" >False</td>\n",
       "    </tr>\n",
       "    <tr>\n",
       "      <th id=\"T_70a46_level0_row21\" class=\"row_heading level0 row21\" >21</th>\n",
       "      <td id=\"T_70a46_row21_col0\" class=\"data row21 col0\" >Log Experiment</td>\n",
       "      <td id=\"T_70a46_row21_col1\" class=\"data row21 col1\" >False</td>\n",
       "    </tr>\n",
       "    <tr>\n",
       "      <th id=\"T_70a46_level0_row22\" class=\"row_heading level0 row22\" >22</th>\n",
       "      <td id=\"T_70a46_row22_col0\" class=\"data row22 col0\" >Experiment Name</td>\n",
       "      <td id=\"T_70a46_row22_col1\" class=\"data row22 col1\" >clf-default-name</td>\n",
       "    </tr>\n",
       "    <tr>\n",
       "      <th id=\"T_70a46_level0_row23\" class=\"row_heading level0 row23\" >23</th>\n",
       "      <td id=\"T_70a46_row23_col0\" class=\"data row23 col0\" >USI</td>\n",
       "      <td id=\"T_70a46_row23_col1\" class=\"data row23 col1\" >12a7</td>\n",
       "    </tr>\n",
       "  </tbody>\n",
       "</table>\n"
      ],
      "text/plain": [
       "<pandas.io.formats.style.Styler at 0x210ffdbffd0>"
      ]
     },
     "metadata": {},
     "output_type": "display_data"
    }
   ],
   "source": [
    "# init setup\n",
    "s = setup(data=modeling_data, target=\"area\", session_id=28, fold=5, categorical_features = [\"mm\"])"
   ]
  },
  {
   "cell_type": "code",
   "execution_count": 19,
   "metadata": {},
   "outputs": [
    {
     "data": {
      "text/html": [],
      "text/plain": [
       "<IPython.core.display.HTML object>"
      ]
     },
     "metadata": {},
     "output_type": "display_data"
    },
    {
     "data": {
      "text/html": [
       "<style type=\"text/css\">\n",
       "#T_a757c th {\n",
       "  text-align: left;\n",
       "}\n",
       "#T_a757c_row0_col0, #T_a757c_row1_col0, #T_a757c_row1_col1, #T_a757c_row1_col2, #T_a757c_row1_col3, #T_a757c_row1_col4, #T_a757c_row1_col5, #T_a757c_row1_col6, #T_a757c_row1_col7, #T_a757c_row2_col0, #T_a757c_row2_col1, #T_a757c_row2_col2, #T_a757c_row2_col3, #T_a757c_row2_col4, #T_a757c_row2_col5, #T_a757c_row2_col6, #T_a757c_row2_col7, #T_a757c_row3_col0, #T_a757c_row3_col1, #T_a757c_row3_col2, #T_a757c_row3_col3, #T_a757c_row3_col4, #T_a757c_row3_col5, #T_a757c_row3_col6, #T_a757c_row3_col7, #T_a757c_row4_col0, #T_a757c_row4_col1, #T_a757c_row4_col2, #T_a757c_row4_col3, #T_a757c_row4_col4, #T_a757c_row4_col5, #T_a757c_row4_col6, #T_a757c_row4_col7, #T_a757c_row5_col0, #T_a757c_row5_col1, #T_a757c_row5_col2, #T_a757c_row5_col3, #T_a757c_row5_col4, #T_a757c_row5_col5, #T_a757c_row5_col6, #T_a757c_row5_col7, #T_a757c_row6_col0, #T_a757c_row6_col1, #T_a757c_row6_col2, #T_a757c_row6_col3, #T_a757c_row6_col4, #T_a757c_row6_col5, #T_a757c_row6_col6, #T_a757c_row6_col7, #T_a757c_row7_col0, #T_a757c_row7_col1, #T_a757c_row7_col2, #T_a757c_row7_col3, #T_a757c_row7_col4, #T_a757c_row7_col5, #T_a757c_row7_col6, #T_a757c_row7_col7, #T_a757c_row8_col0, #T_a757c_row8_col1, #T_a757c_row8_col2, #T_a757c_row8_col3, #T_a757c_row8_col4, #T_a757c_row8_col5, #T_a757c_row8_col6, #T_a757c_row8_col7, #T_a757c_row9_col0, #T_a757c_row9_col1, #T_a757c_row9_col2, #T_a757c_row9_col3, #T_a757c_row9_col4, #T_a757c_row9_col5, #T_a757c_row9_col6, #T_a757c_row9_col7, #T_a757c_row10_col0, #T_a757c_row10_col1, #T_a757c_row10_col2, #T_a757c_row10_col3, #T_a757c_row10_col4, #T_a757c_row10_col5, #T_a757c_row10_col6, #T_a757c_row10_col7, #T_a757c_row11_col0, #T_a757c_row11_col1, #T_a757c_row11_col2, #T_a757c_row11_col3, #T_a757c_row11_col4, #T_a757c_row11_col5, #T_a757c_row11_col6, #T_a757c_row11_col7, #T_a757c_row12_col0, #T_a757c_row12_col1, #T_a757c_row12_col2, #T_a757c_row12_col3, #T_a757c_row12_col4, #T_a757c_row12_col5, #T_a757c_row12_col6, #T_a757c_row12_col7, #T_a757c_row13_col0, #T_a757c_row13_col1, #T_a757c_row13_col2, #T_a757c_row13_col3, #T_a757c_row13_col4, #T_a757c_row13_col5, #T_a757c_row13_col6, #T_a757c_row13_col7, #T_a757c_row14_col0, #T_a757c_row14_col1, #T_a757c_row14_col2, #T_a757c_row14_col3, #T_a757c_row14_col4, #T_a757c_row14_col5, #T_a757c_row14_col6, #T_a757c_row14_col7 {\n",
       "  text-align: left;\n",
       "}\n",
       "#T_a757c_row0_col1, #T_a757c_row0_col2, #T_a757c_row0_col3, #T_a757c_row0_col4, #T_a757c_row0_col5, #T_a757c_row0_col6, #T_a757c_row0_col7 {\n",
       "  text-align: left;\n",
       "  background-color: yellow;\n",
       "}\n",
       "#T_a757c_row0_col8, #T_a757c_row1_col8, #T_a757c_row2_col8, #T_a757c_row3_col8, #T_a757c_row4_col8, #T_a757c_row5_col8, #T_a757c_row6_col8, #T_a757c_row7_col8, #T_a757c_row8_col8, #T_a757c_row9_col8, #T_a757c_row10_col8, #T_a757c_row12_col8, #T_a757c_row13_col8, #T_a757c_row14_col8 {\n",
       "  text-align: left;\n",
       "  background-color: lightgrey;\n",
       "}\n",
       "#T_a757c_row11_col8 {\n",
       "  text-align: left;\n",
       "  background-color: yellow;\n",
       "  background-color: lightgrey;\n",
       "}\n",
       "</style>\n",
       "<table id=\"T_a757c\">\n",
       "  <thead>\n",
       "    <tr>\n",
       "      <th class=\"blank level0\" >&nbsp;</th>\n",
       "      <th id=\"T_a757c_level0_col0\" class=\"col_heading level0 col0\" >Model</th>\n",
       "      <th id=\"T_a757c_level0_col1\" class=\"col_heading level0 col1\" >Accuracy</th>\n",
       "      <th id=\"T_a757c_level0_col2\" class=\"col_heading level0 col2\" >AUC</th>\n",
       "      <th id=\"T_a757c_level0_col3\" class=\"col_heading level0 col3\" >Recall</th>\n",
       "      <th id=\"T_a757c_level0_col4\" class=\"col_heading level0 col4\" >Prec.</th>\n",
       "      <th id=\"T_a757c_level0_col5\" class=\"col_heading level0 col5\" >F1</th>\n",
       "      <th id=\"T_a757c_level0_col6\" class=\"col_heading level0 col6\" >Kappa</th>\n",
       "      <th id=\"T_a757c_level0_col7\" class=\"col_heading level0 col7\" >MCC</th>\n",
       "      <th id=\"T_a757c_level0_col8\" class=\"col_heading level0 col8\" >TT (Sec)</th>\n",
       "    </tr>\n",
       "  </thead>\n",
       "  <tbody>\n",
       "    <tr>\n",
       "      <th id=\"T_a757c_level0_row0\" class=\"row_heading level0 row0\" >catboost</th>\n",
       "      <td id=\"T_a757c_row0_col0\" class=\"data row0 col0\" >CatBoost Classifier</td>\n",
       "      <td id=\"T_a757c_row0_col1\" class=\"data row0 col1\" >0.5926</td>\n",
       "      <td id=\"T_a757c_row0_col2\" class=\"data row0 col2\" >0.7833</td>\n",
       "      <td id=\"T_a757c_row0_col3\" class=\"data row0 col3\" >0.5926</td>\n",
       "      <td id=\"T_a757c_row0_col4\" class=\"data row0 col4\" >0.5934</td>\n",
       "      <td id=\"T_a757c_row0_col5\" class=\"data row0 col5\" >0.5924</td>\n",
       "      <td id=\"T_a757c_row0_col6\" class=\"data row0 col6\" >0.3874</td>\n",
       "      <td id=\"T_a757c_row0_col7\" class=\"data row0 col7\" >0.3877</td>\n",
       "      <td id=\"T_a757c_row0_col8\" class=\"data row0 col8\" >1.9480</td>\n",
       "    </tr>\n",
       "    <tr>\n",
       "      <th id=\"T_a757c_level0_row1\" class=\"row_heading level0 row1\" >gbc</th>\n",
       "      <td id=\"T_a757c_row1_col0\" class=\"data row1 col0\" >Gradient Boosting Classifier</td>\n",
       "      <td id=\"T_a757c_row1_col1\" class=\"data row1 col1\" >0.5805</td>\n",
       "      <td id=\"T_a757c_row1_col2\" class=\"data row1 col2\" >0.7555</td>\n",
       "      <td id=\"T_a757c_row1_col3\" class=\"data row1 col3\" >0.5805</td>\n",
       "      <td id=\"T_a757c_row1_col4\" class=\"data row1 col4\" >0.5839</td>\n",
       "      <td id=\"T_a757c_row1_col5\" class=\"data row1 col5\" >0.5811</td>\n",
       "      <td id=\"T_a757c_row1_col6\" class=\"data row1 col6\" >0.3682</td>\n",
       "      <td id=\"T_a757c_row1_col7\" class=\"data row1 col7\" >0.3688</td>\n",
       "      <td id=\"T_a757c_row1_col8\" class=\"data row1 col8\" >1.9760</td>\n",
       "    </tr>\n",
       "    <tr>\n",
       "      <th id=\"T_a757c_level0_row2\" class=\"row_heading level0 row2\" >lightgbm</th>\n",
       "      <td id=\"T_a757c_row2_col0\" class=\"data row2 col0\" >Light Gradient Boosting Machine</td>\n",
       "      <td id=\"T_a757c_row2_col1\" class=\"data row2 col1\" >0.5764</td>\n",
       "      <td id=\"T_a757c_row2_col2\" class=\"data row2 col2\" >0.7696</td>\n",
       "      <td id=\"T_a757c_row2_col3\" class=\"data row2 col3\" >0.5764</td>\n",
       "      <td id=\"T_a757c_row2_col4\" class=\"data row2 col4\" >0.5759</td>\n",
       "      <td id=\"T_a757c_row2_col5\" class=\"data row2 col5\" >0.5752</td>\n",
       "      <td id=\"T_a757c_row2_col6\" class=\"data row2 col6\" >0.3632</td>\n",
       "      <td id=\"T_a757c_row2_col7\" class=\"data row2 col7\" >0.3638</td>\n",
       "      <td id=\"T_a757c_row2_col8\" class=\"data row2 col8\" >2.3560</td>\n",
       "    </tr>\n",
       "    <tr>\n",
       "      <th id=\"T_a757c_level0_row3\" class=\"row_heading level0 row3\" >lr</th>\n",
       "      <td id=\"T_a757c_row3_col0\" class=\"data row3 col0\" >Logistic Regression</td>\n",
       "      <td id=\"T_a757c_row3_col1\" class=\"data row3 col1\" >0.5744</td>\n",
       "      <td id=\"T_a757c_row3_col2\" class=\"data row3 col2\" >0.7529</td>\n",
       "      <td id=\"T_a757c_row3_col3\" class=\"data row3 col3\" >0.5744</td>\n",
       "      <td id=\"T_a757c_row3_col4\" class=\"data row3 col4\" >0.5669</td>\n",
       "      <td id=\"T_a757c_row3_col5\" class=\"data row3 col5\" >0.5685</td>\n",
       "      <td id=\"T_a757c_row3_col6\" class=\"data row3 col6\" >0.3609</td>\n",
       "      <td id=\"T_a757c_row3_col7\" class=\"data row3 col7\" >0.3624</td>\n",
       "      <td id=\"T_a757c_row3_col8\" class=\"data row3 col8\" >3.5400</td>\n",
       "    </tr>\n",
       "    <tr>\n",
       "      <th id=\"T_a757c_level0_row4\" class=\"row_heading level0 row4\" >lda</th>\n",
       "      <td id=\"T_a757c_row4_col0\" class=\"data row4 col0\" >Linear Discriminant Analysis</td>\n",
       "      <td id=\"T_a757c_row4_col1\" class=\"data row4 col1\" >0.5704</td>\n",
       "      <td id=\"T_a757c_row4_col2\" class=\"data row4 col2\" >0.7520</td>\n",
       "      <td id=\"T_a757c_row4_col3\" class=\"data row4 col3\" >0.5704</td>\n",
       "      <td id=\"T_a757c_row4_col4\" class=\"data row4 col4\" >0.5668</td>\n",
       "      <td id=\"T_a757c_row4_col5\" class=\"data row4 col5\" >0.5678</td>\n",
       "      <td id=\"T_a757c_row4_col6\" class=\"data row4 col6\" >0.3542</td>\n",
       "      <td id=\"T_a757c_row4_col7\" class=\"data row4 col7\" >0.3547</td>\n",
       "      <td id=\"T_a757c_row4_col8\" class=\"data row4 col8\" >1.8520</td>\n",
       "    </tr>\n",
       "    <tr>\n",
       "      <th id=\"T_a757c_level0_row5\" class=\"row_heading level0 row5\" >et</th>\n",
       "      <td id=\"T_a757c_row5_col0\" class=\"data row5 col0\" >Extra Trees Classifier</td>\n",
       "      <td id=\"T_a757c_row5_col1\" class=\"data row5 col1\" >0.5704</td>\n",
       "      <td id=\"T_a757c_row5_col2\" class=\"data row5 col2\" >0.7608</td>\n",
       "      <td id=\"T_a757c_row5_col3\" class=\"data row5 col3\" >0.5704</td>\n",
       "      <td id=\"T_a757c_row5_col4\" class=\"data row5 col4\" >0.5716</td>\n",
       "      <td id=\"T_a757c_row5_col5\" class=\"data row5 col5\" >0.5705</td>\n",
       "      <td id=\"T_a757c_row5_col6\" class=\"data row5 col6\" >0.3538</td>\n",
       "      <td id=\"T_a757c_row5_col7\" class=\"data row5 col7\" >0.3542</td>\n",
       "      <td id=\"T_a757c_row5_col8\" class=\"data row5 col8\" >1.8960</td>\n",
       "    </tr>\n",
       "    <tr>\n",
       "      <th id=\"T_a757c_level0_row6\" class=\"row_heading level0 row6\" >xgboost</th>\n",
       "      <td id=\"T_a757c_row6_col0\" class=\"data row6 col0\" >Extreme Gradient Boosting</td>\n",
       "      <td id=\"T_a757c_row6_col1\" class=\"data row6 col1\" >0.5668</td>\n",
       "      <td id=\"T_a757c_row6_col2\" class=\"data row6 col2\" >0.7600</td>\n",
       "      <td id=\"T_a757c_row6_col3\" class=\"data row6 col3\" >0.5668</td>\n",
       "      <td id=\"T_a757c_row6_col4\" class=\"data row6 col4\" >0.5679</td>\n",
       "      <td id=\"T_a757c_row6_col5\" class=\"data row6 col5\" >0.5665</td>\n",
       "      <td id=\"T_a757c_row6_col6\" class=\"data row6 col6\" >0.3481</td>\n",
       "      <td id=\"T_a757c_row6_col7\" class=\"data row6 col7\" >0.3486</td>\n",
       "      <td id=\"T_a757c_row6_col8\" class=\"data row6 col8\" >1.8980</td>\n",
       "    </tr>\n",
       "    <tr>\n",
       "      <th id=\"T_a757c_level0_row7\" class=\"row_heading level0 row7\" >rf</th>\n",
       "      <td id=\"T_a757c_row7_col0\" class=\"data row7 col0\" >Random Forest Classifier</td>\n",
       "      <td id=\"T_a757c_row7_col1\" class=\"data row7 col1\" >0.5652</td>\n",
       "      <td id=\"T_a757c_row7_col2\" class=\"data row7 col2\" >0.7566</td>\n",
       "      <td id=\"T_a757c_row7_col3\" class=\"data row7 col3\" >0.5652</td>\n",
       "      <td id=\"T_a757c_row7_col4\" class=\"data row7 col4\" >0.5658</td>\n",
       "      <td id=\"T_a757c_row7_col5\" class=\"data row7 col5\" >0.5650</td>\n",
       "      <td id=\"T_a757c_row7_col6\" class=\"data row7 col6\" >0.3462</td>\n",
       "      <td id=\"T_a757c_row7_col7\" class=\"data row7 col7\" >0.3465</td>\n",
       "      <td id=\"T_a757c_row7_col8\" class=\"data row7 col8\" >2.0040</td>\n",
       "    </tr>\n",
       "    <tr>\n",
       "      <th id=\"T_a757c_level0_row8\" class=\"row_heading level0 row8\" >ridge</th>\n",
       "      <td id=\"T_a757c_row8_col0\" class=\"data row8 col0\" >Ridge Classifier</td>\n",
       "      <td id=\"T_a757c_row8_col1\" class=\"data row8 col1\" >0.5587</td>\n",
       "      <td id=\"T_a757c_row8_col2\" class=\"data row8 col2\" >0.0000</td>\n",
       "      <td id=\"T_a757c_row8_col3\" class=\"data row8 col3\" >0.5587</td>\n",
       "      <td id=\"T_a757c_row8_col4\" class=\"data row8 col4\" >0.5403</td>\n",
       "      <td id=\"T_a757c_row8_col5\" class=\"data row8 col5\" >0.5278</td>\n",
       "      <td id=\"T_a757c_row8_col6\" class=\"data row8 col6\" >0.3402</td>\n",
       "      <td id=\"T_a757c_row8_col7\" class=\"data row8 col7\" >0.3539</td>\n",
       "      <td id=\"T_a757c_row8_col8\" class=\"data row8 col8\" >1.9860</td>\n",
       "    </tr>\n",
       "    <tr>\n",
       "      <th id=\"T_a757c_level0_row9\" class=\"row_heading level0 row9\" >ada</th>\n",
       "      <td id=\"T_a757c_row9_col0\" class=\"data row9 col0\" >Ada Boost Classifier</td>\n",
       "      <td id=\"T_a757c_row9_col1\" class=\"data row9 col1\" >0.5252</td>\n",
       "      <td id=\"T_a757c_row9_col2\" class=\"data row9 col2\" >0.7027</td>\n",
       "      <td id=\"T_a757c_row9_col3\" class=\"data row9 col3\" >0.5252</td>\n",
       "      <td id=\"T_a757c_row9_col4\" class=\"data row9 col4\" >0.5268</td>\n",
       "      <td id=\"T_a757c_row9_col5\" class=\"data row9 col5\" >0.5250</td>\n",
       "      <td id=\"T_a757c_row9_col6\" class=\"data row9 col6\" >0.2850</td>\n",
       "      <td id=\"T_a757c_row9_col7\" class=\"data row9 col7\" >0.2856</td>\n",
       "      <td id=\"T_a757c_row9_col8\" class=\"data row9 col8\" >2.0180</td>\n",
       "    </tr>\n",
       "    <tr>\n",
       "      <th id=\"T_a757c_level0_row10\" class=\"row_heading level0 row10\" >dt</th>\n",
       "      <td id=\"T_a757c_row10_col0\" class=\"data row10 col0\" >Decision Tree Classifier</td>\n",
       "      <td id=\"T_a757c_row10_col1\" class=\"data row10 col1\" >0.5204</td>\n",
       "      <td id=\"T_a757c_row10_col2\" class=\"data row10 col2\" >0.6378</td>\n",
       "      <td id=\"T_a757c_row10_col3\" class=\"data row10 col3\" >0.5204</td>\n",
       "      <td id=\"T_a757c_row10_col4\" class=\"data row10 col4\" >0.5213</td>\n",
       "      <td id=\"T_a757c_row10_col5\" class=\"data row10 col5\" >0.5200</td>\n",
       "      <td id=\"T_a757c_row10_col6\" class=\"data row10 col6\" >0.2785</td>\n",
       "      <td id=\"T_a757c_row10_col7\" class=\"data row10 col7\" >0.2789</td>\n",
       "      <td id=\"T_a757c_row10_col8\" class=\"data row10 col8\" >2.0240</td>\n",
       "    </tr>\n",
       "    <tr>\n",
       "      <th id=\"T_a757c_level0_row11\" class=\"row_heading level0 row11\" >nb</th>\n",
       "      <td id=\"T_a757c_row11_col0\" class=\"data row11 col0\" >Naive Bayes</td>\n",
       "      <td id=\"T_a757c_row11_col1\" class=\"data row11 col1\" >0.3949</td>\n",
       "      <td id=\"T_a757c_row11_col2\" class=\"data row11 col2\" >0.5890</td>\n",
       "      <td id=\"T_a757c_row11_col3\" class=\"data row11 col3\" >0.3949</td>\n",
       "      <td id=\"T_a757c_row11_col4\" class=\"data row11 col4\" >0.3938</td>\n",
       "      <td id=\"T_a757c_row11_col5\" class=\"data row11 col5\" >0.3887</td>\n",
       "      <td id=\"T_a757c_row11_col6\" class=\"data row11 col6\" >0.0888</td>\n",
       "      <td id=\"T_a757c_row11_col7\" class=\"data row11 col7\" >0.0902</td>\n",
       "      <td id=\"T_a757c_row11_col8\" class=\"data row11 col8\" >1.7980</td>\n",
       "    </tr>\n",
       "    <tr>\n",
       "      <th id=\"T_a757c_level0_row12\" class=\"row_heading level0 row12\" >qda</th>\n",
       "      <td id=\"T_a757c_row12_col0\" class=\"data row12 col0\" >Quadratic Discriminant Analysis</td>\n",
       "      <td id=\"T_a757c_row12_col1\" class=\"data row12 col1\" >0.3925</td>\n",
       "      <td id=\"T_a757c_row12_col2\" class=\"data row12 col2\" >0.5615</td>\n",
       "      <td id=\"T_a757c_row12_col3\" class=\"data row12 col3\" >0.3925</td>\n",
       "      <td id=\"T_a757c_row12_col4\" class=\"data row12 col4\" >0.4143</td>\n",
       "      <td id=\"T_a757c_row12_col5\" class=\"data row12 col5\" >0.3548</td>\n",
       "      <td id=\"T_a757c_row12_col6\" class=\"data row12 col6\" >0.0843</td>\n",
       "      <td id=\"T_a757c_row12_col7\" class=\"data row12 col7\" >0.0962</td>\n",
       "      <td id=\"T_a757c_row12_col8\" class=\"data row12 col8\" >1.9740</td>\n",
       "    </tr>\n",
       "    <tr>\n",
       "      <th id=\"T_a757c_level0_row13\" class=\"row_heading level0 row13\" >svm</th>\n",
       "      <td id=\"T_a757c_row13_col0\" class=\"data row13 col0\" >SVM - Linear Kernel</td>\n",
       "      <td id=\"T_a757c_row13_col1\" class=\"data row13 col1\" >0.3780</td>\n",
       "      <td id=\"T_a757c_row13_col2\" class=\"data row13 col2\" >0.0000</td>\n",
       "      <td id=\"T_a757c_row13_col3\" class=\"data row13 col3\" >0.3780</td>\n",
       "      <td id=\"T_a757c_row13_col4\" class=\"data row13 col4\" >0.3759</td>\n",
       "      <td id=\"T_a757c_row13_col5\" class=\"data row13 col5\" >0.2486</td>\n",
       "      <td id=\"T_a757c_row13_col6\" class=\"data row13 col6\" >0.0491</td>\n",
       "      <td id=\"T_a757c_row13_col7\" class=\"data row13 col7\" >0.0943</td>\n",
       "      <td id=\"T_a757c_row13_col8\" class=\"data row13 col8\" >1.9780</td>\n",
       "    </tr>\n",
       "    <tr>\n",
       "      <th id=\"T_a757c_level0_row14\" class=\"row_heading level0 row14\" >dummy</th>\n",
       "      <td id=\"T_a757c_row14_col0\" class=\"data row14 col0\" >Dummy Classifier</td>\n",
       "      <td id=\"T_a757c_row14_col1\" class=\"data row14 col1\" >0.3514</td>\n",
       "      <td id=\"T_a757c_row14_col2\" class=\"data row14 col2\" >0.5000</td>\n",
       "      <td id=\"T_a757c_row14_col3\" class=\"data row14 col3\" >0.3514</td>\n",
       "      <td id=\"T_a757c_row14_col4\" class=\"data row14 col4\" >0.1234</td>\n",
       "      <td id=\"T_a757c_row14_col5\" class=\"data row14 col5\" >0.1827</td>\n",
       "      <td id=\"T_a757c_row14_col6\" class=\"data row14 col6\" >0.0000</td>\n",
       "      <td id=\"T_a757c_row14_col7\" class=\"data row14 col7\" >0.0000</td>\n",
       "      <td id=\"T_a757c_row14_col8\" class=\"data row14 col8\" >1.9120</td>\n",
       "    </tr>\n",
       "  </tbody>\n",
       "</table>\n"
      ],
      "text/plain": [
       "<pandas.io.formats.style.Styler at 0x210f6e5c0a0>"
      ]
     },
     "metadata": {},
     "output_type": "display_data"
    },
    {
     "data": {
      "application/vnd.jupyter.widget-view+json": {
       "model_id": "",
       "version_major": 2,
       "version_minor": 0
      },
      "text/plain": [
       "Processing:   0%|          | 0/69 [00:00<?, ?it/s]"
      ]
     },
     "metadata": {},
     "output_type": "display_data"
    },
    {
     "data": {
      "text/plain": [
       "<catboost.core.CatBoostClassifier at 0x210ffc48850>"
      ]
     },
     "execution_count": 19,
     "metadata": {},
     "output_type": "execute_result"
    }
   ],
   "source": [
    "#compare which model is the best one for our data\n",
    "compare_models()"
   ]
  },
  {
   "cell_type": "code",
   "execution_count": 20,
   "metadata": {},
   "outputs": [
    {
     "data": {
      "text/html": [],
      "text/plain": [
       "<IPython.core.display.HTML object>"
      ]
     },
     "metadata": {},
     "output_type": "display_data"
    },
    {
     "data": {
      "text/html": [
       "<style type=\"text/css\">\n",
       "#T_8215a_row5_col0, #T_8215a_row5_col1, #T_8215a_row5_col2, #T_8215a_row5_col3, #T_8215a_row5_col4, #T_8215a_row5_col5, #T_8215a_row5_col6 {\n",
       "  background: yellow;\n",
       "}\n",
       "</style>\n",
       "<table id=\"T_8215a\">\n",
       "  <thead>\n",
       "    <tr>\n",
       "      <th class=\"blank level0\" >&nbsp;</th>\n",
       "      <th id=\"T_8215a_level0_col0\" class=\"col_heading level0 col0\" >Accuracy</th>\n",
       "      <th id=\"T_8215a_level0_col1\" class=\"col_heading level0 col1\" >AUC</th>\n",
       "      <th id=\"T_8215a_level0_col2\" class=\"col_heading level0 col2\" >Recall</th>\n",
       "      <th id=\"T_8215a_level0_col3\" class=\"col_heading level0 col3\" >Prec.</th>\n",
       "      <th id=\"T_8215a_level0_col4\" class=\"col_heading level0 col4\" >F1</th>\n",
       "      <th id=\"T_8215a_level0_col5\" class=\"col_heading level0 col5\" >Kappa</th>\n",
       "      <th id=\"T_8215a_level0_col6\" class=\"col_heading level0 col6\" >MCC</th>\n",
       "    </tr>\n",
       "    <tr>\n",
       "      <th class=\"index_name level0\" >Fold</th>\n",
       "      <th class=\"blank col0\" >&nbsp;</th>\n",
       "      <th class=\"blank col1\" >&nbsp;</th>\n",
       "      <th class=\"blank col2\" >&nbsp;</th>\n",
       "      <th class=\"blank col3\" >&nbsp;</th>\n",
       "      <th class=\"blank col4\" >&nbsp;</th>\n",
       "      <th class=\"blank col5\" >&nbsp;</th>\n",
       "      <th class=\"blank col6\" >&nbsp;</th>\n",
       "    </tr>\n",
       "  </thead>\n",
       "  <tbody>\n",
       "    <tr>\n",
       "      <th id=\"T_8215a_level0_row0\" class=\"row_heading level0 row0\" >0</th>\n",
       "      <td id=\"T_8215a_row0_col0\" class=\"data row0 col0\" >0.5847</td>\n",
       "      <td id=\"T_8215a_row0_col1\" class=\"data row0 col1\" >0.7867</td>\n",
       "      <td id=\"T_8215a_row0_col2\" class=\"data row0 col2\" >0.5847</td>\n",
       "      <td id=\"T_8215a_row0_col3\" class=\"data row0 col3\" >0.5898</td>\n",
       "      <td id=\"T_8215a_row0_col4\" class=\"data row0 col4\" >0.5865</td>\n",
       "      <td id=\"T_8215a_row0_col5\" class=\"data row0 col5\" >0.3754</td>\n",
       "      <td id=\"T_8215a_row0_col6\" class=\"data row0 col6\" >0.3760</td>\n",
       "    </tr>\n",
       "    <tr>\n",
       "      <th id=\"T_8215a_level0_row1\" class=\"row_heading level0 row1\" >1</th>\n",
       "      <td id=\"T_8215a_row1_col0\" class=\"data row1 col0\" >0.5706</td>\n",
       "      <td id=\"T_8215a_row1_col1\" class=\"data row1 col1\" >0.7793</td>\n",
       "      <td id=\"T_8215a_row1_col2\" class=\"data row1 col2\" >0.5706</td>\n",
       "      <td id=\"T_8215a_row1_col3\" class=\"data row1 col3\" >0.5707</td>\n",
       "      <td id=\"T_8215a_row1_col4\" class=\"data row1 col4\" >0.5706</td>\n",
       "      <td id=\"T_8215a_row1_col5\" class=\"data row1 col5\" >0.3546</td>\n",
       "      <td id=\"T_8215a_row1_col6\" class=\"data row1 col6\" >0.3546</td>\n",
       "    </tr>\n",
       "    <tr>\n",
       "      <th id=\"T_8215a_level0_row2\" class=\"row_heading level0 row2\" >2</th>\n",
       "      <td id=\"T_8215a_row2_col0\" class=\"data row2 col0\" >0.6250</td>\n",
       "      <td id=\"T_8215a_row2_col1\" class=\"data row2 col1\" >0.8025</td>\n",
       "      <td id=\"T_8215a_row2_col2\" class=\"data row2 col2\" >0.6250</td>\n",
       "      <td id=\"T_8215a_row2_col3\" class=\"data row2 col3\" >0.6247</td>\n",
       "      <td id=\"T_8215a_row2_col4\" class=\"data row2 col4\" >0.6248</td>\n",
       "      <td id=\"T_8215a_row2_col5\" class=\"data row2 col5\" >0.4360</td>\n",
       "      <td id=\"T_8215a_row2_col6\" class=\"data row2 col6\" >0.4360</td>\n",
       "    </tr>\n",
       "    <tr>\n",
       "      <th id=\"T_8215a_level0_row3\" class=\"row_heading level0 row3\" >3</th>\n",
       "      <td id=\"T_8215a_row3_col0\" class=\"data row3 col0\" >0.5786</td>\n",
       "      <td id=\"T_8215a_row3_col1\" class=\"data row3 col1\" >0.7678</td>\n",
       "      <td id=\"T_8215a_row3_col2\" class=\"data row3 col2\" >0.5786</td>\n",
       "      <td id=\"T_8215a_row3_col3\" class=\"data row3 col3\" >0.5725</td>\n",
       "      <td id=\"T_8215a_row3_col4\" class=\"data row3 col4\" >0.5743</td>\n",
       "      <td id=\"T_8215a_row3_col5\" class=\"data row3 col5\" >0.3675</td>\n",
       "      <td id=\"T_8215a_row3_col6\" class=\"data row3 col6\" >0.3684</td>\n",
       "    </tr>\n",
       "    <tr>\n",
       "      <th id=\"T_8215a_level0_row4\" class=\"row_heading level0 row4\" >4</th>\n",
       "      <td id=\"T_8215a_row4_col0\" class=\"data row4 col0\" >0.6040</td>\n",
       "      <td id=\"T_8215a_row4_col1\" class=\"data row4 col1\" >0.7804</td>\n",
       "      <td id=\"T_8215a_row4_col2\" class=\"data row4 col2\" >0.6040</td>\n",
       "      <td id=\"T_8215a_row4_col3\" class=\"data row4 col3\" >0.6090</td>\n",
       "      <td id=\"T_8215a_row4_col4\" class=\"data row4 col4\" >0.6058</td>\n",
       "      <td id=\"T_8215a_row4_col5\" class=\"data row4 col5\" >0.4032</td>\n",
       "      <td id=\"T_8215a_row4_col6\" class=\"data row4 col6\" >0.4037</td>\n",
       "    </tr>\n",
       "    <tr>\n",
       "      <th id=\"T_8215a_level0_row5\" class=\"row_heading level0 row5\" >Mean</th>\n",
       "      <td id=\"T_8215a_row5_col0\" class=\"data row5 col0\" >0.5926</td>\n",
       "      <td id=\"T_8215a_row5_col1\" class=\"data row5 col1\" >0.7833</td>\n",
       "      <td id=\"T_8215a_row5_col2\" class=\"data row5 col2\" >0.5926</td>\n",
       "      <td id=\"T_8215a_row5_col3\" class=\"data row5 col3\" >0.5934</td>\n",
       "      <td id=\"T_8215a_row5_col4\" class=\"data row5 col4\" >0.5924</td>\n",
       "      <td id=\"T_8215a_row5_col5\" class=\"data row5 col5\" >0.3874</td>\n",
       "      <td id=\"T_8215a_row5_col6\" class=\"data row5 col6\" >0.3877</td>\n",
       "    </tr>\n",
       "    <tr>\n",
       "      <th id=\"T_8215a_level0_row6\" class=\"row_heading level0 row6\" >Std</th>\n",
       "      <td id=\"T_8215a_row6_col0\" class=\"data row6 col0\" >0.0196</td>\n",
       "      <td id=\"T_8215a_row6_col1\" class=\"data row6 col1\" >0.0114</td>\n",
       "      <td id=\"T_8215a_row6_col2\" class=\"data row6 col2\" >0.0196</td>\n",
       "      <td id=\"T_8215a_row6_col3\" class=\"data row6 col3\" >0.0209</td>\n",
       "      <td id=\"T_8215a_row6_col4\" class=\"data row6 col4\" >0.0204</td>\n",
       "      <td id=\"T_8215a_row6_col5\" class=\"data row6 col5\" >0.0291</td>\n",
       "      <td id=\"T_8215a_row6_col6\" class=\"data row6 col6\" >0.0290</td>\n",
       "    </tr>\n",
       "  </tbody>\n",
       "</table>\n"
      ],
      "text/plain": [
       "<pandas.io.formats.style.Styler at 0x210ffac99c0>"
      ]
     },
     "metadata": {},
     "output_type": "display_data"
    },
    {
     "data": {
      "application/vnd.jupyter.widget-view+json": {
       "model_id": "",
       "version_major": 2,
       "version_minor": 0
      },
      "text/plain": [
       "Processing:   0%|          | 0/4 [00:00<?, ?it/s]"
      ]
     },
     "metadata": {},
     "output_type": "display_data"
    }
   ],
   "source": [
    "# Build a CatBoost Classifier for our data\n",
    "cb = create_model(\"catboost\")"
   ]
  },
  {
   "cell_type": "code",
   "execution_count": 21,
   "metadata": {},
   "outputs": [
    {
     "data": {
      "text/html": [],
      "text/plain": [
       "<IPython.core.display.HTML object>"
      ]
     },
     "metadata": {},
     "output_type": "display_data"
    },
    {
     "data": {
      "text/html": [
       "<style type=\"text/css\">\n",
       "#T_87807_row5_col0, #T_87807_row5_col1, #T_87807_row5_col2, #T_87807_row5_col3, #T_87807_row5_col4, #T_87807_row5_col5, #T_87807_row5_col6 {\n",
       "  background: yellow;\n",
       "}\n",
       "</style>\n",
       "<table id=\"T_87807\">\n",
       "  <thead>\n",
       "    <tr>\n",
       "      <th class=\"blank level0\" >&nbsp;</th>\n",
       "      <th id=\"T_87807_level0_col0\" class=\"col_heading level0 col0\" >Accuracy</th>\n",
       "      <th id=\"T_87807_level0_col1\" class=\"col_heading level0 col1\" >AUC</th>\n",
       "      <th id=\"T_87807_level0_col2\" class=\"col_heading level0 col2\" >Recall</th>\n",
       "      <th id=\"T_87807_level0_col3\" class=\"col_heading level0 col3\" >Prec.</th>\n",
       "      <th id=\"T_87807_level0_col4\" class=\"col_heading level0 col4\" >F1</th>\n",
       "      <th id=\"T_87807_level0_col5\" class=\"col_heading level0 col5\" >Kappa</th>\n",
       "      <th id=\"T_87807_level0_col6\" class=\"col_heading level0 col6\" >MCC</th>\n",
       "    </tr>\n",
       "    <tr>\n",
       "      <th class=\"index_name level0\" >Fold</th>\n",
       "      <th class=\"blank col0\" >&nbsp;</th>\n",
       "      <th class=\"blank col1\" >&nbsp;</th>\n",
       "      <th class=\"blank col2\" >&nbsp;</th>\n",
       "      <th class=\"blank col3\" >&nbsp;</th>\n",
       "      <th class=\"blank col4\" >&nbsp;</th>\n",
       "      <th class=\"blank col5\" >&nbsp;</th>\n",
       "      <th class=\"blank col6\" >&nbsp;</th>\n",
       "    </tr>\n",
       "  </thead>\n",
       "  <tbody>\n",
       "    <tr>\n",
       "      <th id=\"T_87807_level0_row0\" class=\"row_heading level0 row0\" >0</th>\n",
       "      <td id=\"T_87807_row0_col0\" class=\"data row0 col0\" >0.6048</td>\n",
       "      <td id=\"T_87807_row0_col1\" class=\"data row0 col1\" >0.7835</td>\n",
       "      <td id=\"T_87807_row0_col2\" class=\"data row0 col2\" >0.6048</td>\n",
       "      <td id=\"T_87807_row0_col3\" class=\"data row0 col3\" >0.6073</td>\n",
       "      <td id=\"T_87807_row0_col4\" class=\"data row0 col4\" >0.6058</td>\n",
       "      <td id=\"T_87807_row0_col5\" class=\"data row0 col5\" >0.4057</td>\n",
       "      <td id=\"T_87807_row0_col6\" class=\"data row0 col6\" >0.4059</td>\n",
       "    </tr>\n",
       "    <tr>\n",
       "      <th id=\"T_87807_level0_row1\" class=\"row_heading level0 row1\" >1</th>\n",
       "      <td id=\"T_87807_row1_col0\" class=\"data row1 col0\" >0.5948</td>\n",
       "      <td id=\"T_87807_row1_col1\" class=\"data row1 col1\" >0.7774</td>\n",
       "      <td id=\"T_87807_row1_col2\" class=\"data row1 col2\" >0.5948</td>\n",
       "      <td id=\"T_87807_row1_col3\" class=\"data row1 col3\" >0.5935</td>\n",
       "      <td id=\"T_87807_row1_col4\" class=\"data row1 col4\" >0.5940</td>\n",
       "      <td id=\"T_87807_row1_col5\" class=\"data row1 col5\" >0.3910</td>\n",
       "      <td id=\"T_87807_row1_col6\" class=\"data row1 col6\" >0.3911</td>\n",
       "    </tr>\n",
       "    <tr>\n",
       "      <th id=\"T_87807_level0_row2\" class=\"row_heading level0 row2\" >2</th>\n",
       "      <td id=\"T_87807_row2_col0\" class=\"data row2 col0\" >0.6089</td>\n",
       "      <td id=\"T_87807_row2_col1\" class=\"data row2 col1\" >0.7966</td>\n",
       "      <td id=\"T_87807_row2_col2\" class=\"data row2 col2\" >0.6089</td>\n",
       "      <td id=\"T_87807_row2_col3\" class=\"data row2 col3\" >0.6088</td>\n",
       "      <td id=\"T_87807_row2_col4\" class=\"data row2 col4\" >0.6084</td>\n",
       "      <td id=\"T_87807_row2_col5\" class=\"data row2 col5\" >0.4110</td>\n",
       "      <td id=\"T_87807_row2_col6\" class=\"data row2 col6\" >0.4114</td>\n",
       "    </tr>\n",
       "    <tr>\n",
       "      <th id=\"T_87807_level0_row3\" class=\"row_heading level0 row3\" >3</th>\n",
       "      <td id=\"T_87807_row3_col0\" class=\"data row3 col0\" >0.5746</td>\n",
       "      <td id=\"T_87807_row3_col1\" class=\"data row3 col1\" >0.7627</td>\n",
       "      <td id=\"T_87807_row3_col2\" class=\"data row3 col2\" >0.5746</td>\n",
       "      <td id=\"T_87807_row3_col3\" class=\"data row3 col3\" >0.5710</td>\n",
       "      <td id=\"T_87807_row3_col4\" class=\"data row3 col4\" >0.5722</td>\n",
       "      <td id=\"T_87807_row3_col5\" class=\"data row3 col5\" >0.3605</td>\n",
       "      <td id=\"T_87807_row3_col6\" class=\"data row3 col6\" >0.3609</td>\n",
       "    </tr>\n",
       "    <tr>\n",
       "      <th id=\"T_87807_level0_row4\" class=\"row_heading level0 row4\" >4</th>\n",
       "      <td id=\"T_87807_row4_col0\" class=\"data row4 col0\" >0.5818</td>\n",
       "      <td id=\"T_87807_row4_col1\" class=\"data row4 col1\" >0.7611</td>\n",
       "      <td id=\"T_87807_row4_col2\" class=\"data row4 col2\" >0.5818</td>\n",
       "      <td id=\"T_87807_row4_col3\" class=\"data row4 col3\" >0.5862</td>\n",
       "      <td id=\"T_87807_row4_col4\" class=\"data row4 col4\" >0.5834</td>\n",
       "      <td id=\"T_87807_row4_col5\" class=\"data row4 col5\" >0.3700</td>\n",
       "      <td id=\"T_87807_row4_col6\" class=\"data row4 col6\" >0.3704</td>\n",
       "    </tr>\n",
       "    <tr>\n",
       "      <th id=\"T_87807_level0_row5\" class=\"row_heading level0 row5\" >Mean</th>\n",
       "      <td id=\"T_87807_row5_col0\" class=\"data row5 col0\" >0.5930</td>\n",
       "      <td id=\"T_87807_row5_col1\" class=\"data row5 col1\" >0.7762</td>\n",
       "      <td id=\"T_87807_row5_col2\" class=\"data row5 col2\" >0.5930</td>\n",
       "      <td id=\"T_87807_row5_col3\" class=\"data row5 col3\" >0.5933</td>\n",
       "      <td id=\"T_87807_row5_col4\" class=\"data row5 col4\" >0.5928</td>\n",
       "      <td id=\"T_87807_row5_col5\" class=\"data row5 col5\" >0.3877</td>\n",
       "      <td id=\"T_87807_row5_col6\" class=\"data row5 col6\" >0.3879</td>\n",
       "    </tr>\n",
       "    <tr>\n",
       "      <th id=\"T_87807_level0_row6\" class=\"row_heading level0 row6\" >Std</th>\n",
       "      <td id=\"T_87807_row6_col0\" class=\"data row6 col0\" >0.0131</td>\n",
       "      <td id=\"T_87807_row6_col1\" class=\"data row6 col1\" >0.0133</td>\n",
       "      <td id=\"T_87807_row6_col2\" class=\"data row6 col2\" >0.0131</td>\n",
       "      <td id=\"T_87807_row6_col3\" class=\"data row6 col3\" >0.0140</td>\n",
       "      <td id=\"T_87807_row6_col4\" class=\"data row6 col4\" >0.0136</td>\n",
       "      <td id=\"T_87807_row6_col5\" class=\"data row6 col5\" >0.0196</td>\n",
       "      <td id=\"T_87807_row6_col6\" class=\"data row6 col6\" >0.0196</td>\n",
       "    </tr>\n",
       "  </tbody>\n",
       "</table>\n"
      ],
      "text/plain": [
       "<pandas.io.formats.style.Styler at 0x210ff9ae440>"
      ]
     },
     "metadata": {},
     "output_type": "display_data"
    },
    {
     "data": {
      "application/vnd.jupyter.widget-view+json": {
       "model_id": "",
       "version_major": 2,
       "version_minor": 0
      },
      "text/plain": [
       "Processing:   0%|          | 0/7 [00:00<?, ?it/s]"
      ]
     },
     "metadata": {},
     "output_type": "display_data"
    },
    {
     "name": "stdout",
     "output_type": "stream",
     "text": [
      "Fitting 5 folds for each of 10 candidates, totalling 50 fits\n"
     ]
    }
   ],
   "source": [
    "# Tune the hyperparameters of the model we have just created\n",
    "cb_tuned = tune_model(cb)"
   ]
  },
  {
   "cell_type": "markdown",
   "metadata": {},
   "source": [
    "<div class=\"alert alert-block alert-success\"> <b>NOTE: </b> \n",
    "    Note: it could be worthy to experiment tuning the other classifiers shown in the compare_model() ranking table with similar metrics (gbc, lightgbm, lr) as they may outperform the top one in the ranking after the hyperparameters tuning. \n",
    "</div>"
   ]
  },
  {
   "cell_type": "code",
   "execution_count": 22,
   "metadata": {},
   "outputs": [
    {
     "data": {
      "text/html": [
       "<style type=\"text/css\">\n",
       "</style>\n",
       "<table id=\"T_846e2\">\n",
       "  <thead>\n",
       "    <tr>\n",
       "      <th class=\"blank level0\" >&nbsp;</th>\n",
       "      <th id=\"T_846e2_level0_col0\" class=\"col_heading level0 col0\" >Model</th>\n",
       "      <th id=\"T_846e2_level0_col1\" class=\"col_heading level0 col1\" >Accuracy</th>\n",
       "      <th id=\"T_846e2_level0_col2\" class=\"col_heading level0 col2\" >AUC</th>\n",
       "      <th id=\"T_846e2_level0_col3\" class=\"col_heading level0 col3\" >Recall</th>\n",
       "      <th id=\"T_846e2_level0_col4\" class=\"col_heading level0 col4\" >Prec.</th>\n",
       "      <th id=\"T_846e2_level0_col5\" class=\"col_heading level0 col5\" >F1</th>\n",
       "      <th id=\"T_846e2_level0_col6\" class=\"col_heading level0 col6\" >Kappa</th>\n",
       "      <th id=\"T_846e2_level0_col7\" class=\"col_heading level0 col7\" >MCC</th>\n",
       "    </tr>\n",
       "  </thead>\n",
       "  <tbody>\n",
       "    <tr>\n",
       "      <th id=\"T_846e2_level0_row0\" class=\"row_heading level0 row0\" >0</th>\n",
       "      <td id=\"T_846e2_row0_col0\" class=\"data row0 col0\" >CatBoost Classifier</td>\n",
       "      <td id=\"T_846e2_row0_col1\" class=\"data row0 col1\" >0.5992</td>\n",
       "      <td id=\"T_846e2_row0_col2\" class=\"data row0 col2\" >0.7825</td>\n",
       "      <td id=\"T_846e2_row0_col3\" class=\"data row0 col3\" >0.5992</td>\n",
       "      <td id=\"T_846e2_row0_col4\" class=\"data row0 col4\" >0.6027</td>\n",
       "      <td id=\"T_846e2_row0_col5\" class=\"data row0 col5\" >0.6000</td>\n",
       "      <td id=\"T_846e2_row0_col6\" class=\"data row0 col6\" >0.3957</td>\n",
       "      <td id=\"T_846e2_row0_col7\" class=\"data row0 col7\" >0.3962</td>\n",
       "    </tr>\n",
       "  </tbody>\n",
       "</table>\n"
      ],
      "text/plain": [
       "<pandas.io.formats.style.Styler at 0x210ffc9b7c0>"
      ]
     },
     "metadata": {},
     "output_type": "display_data"
    }
   ],
   "source": [
    "# predict on the pycaret test set\n",
    "predict = predict_model(cb_tuned)"
   ]
  },
  {
   "cell_type": "code",
   "execution_count": 23,
   "metadata": {
    "scrolled": true
   },
   "outputs": [
    {
     "data": {
      "text/html": [
       "<style type=\"text/css\">\n",
       "</style>\n",
       "<table id=\"T_8c708\">\n",
       "  <thead>\n",
       "    <tr>\n",
       "      <th class=\"blank level0\" >&nbsp;</th>\n",
       "      <th id=\"T_8c708_level0_col0\" class=\"col_heading level0 col0\" >Model</th>\n",
       "      <th id=\"T_8c708_level0_col1\" class=\"col_heading level0 col1\" >Accuracy</th>\n",
       "      <th id=\"T_8c708_level0_col2\" class=\"col_heading level0 col2\" >AUC</th>\n",
       "      <th id=\"T_8c708_level0_col3\" class=\"col_heading level0 col3\" >Recall</th>\n",
       "      <th id=\"T_8c708_level0_col4\" class=\"col_heading level0 col4\" >Prec.</th>\n",
       "      <th id=\"T_8c708_level0_col5\" class=\"col_heading level0 col5\" >F1</th>\n",
       "      <th id=\"T_8c708_level0_col6\" class=\"col_heading level0 col6\" >Kappa</th>\n",
       "      <th id=\"T_8c708_level0_col7\" class=\"col_heading level0 col7\" >MCC</th>\n",
       "    </tr>\n",
       "  </thead>\n",
       "  <tbody>\n",
       "    <tr>\n",
       "      <th id=\"T_8c708_level0_row0\" class=\"row_heading level0 row0\" >0</th>\n",
       "      <td id=\"T_8c708_row0_col0\" class=\"data row0 col0\" >CatBoost Classifier</td>\n",
       "      <td id=\"T_8c708_row0_col1\" class=\"data row0 col1\" >0.7037</td>\n",
       "      <td id=\"T_8c708_row0_col2\" class=\"data row0 col2\" >0.8663</td>\n",
       "      <td id=\"T_8c708_row0_col3\" class=\"data row0 col3\" >0.7037</td>\n",
       "      <td id=\"T_8c708_row0_col4\" class=\"data row0 col4\" >0.7036</td>\n",
       "      <td id=\"T_8c708_row0_col5\" class=\"data row0 col5\" >0.7032</td>\n",
       "      <td id=\"T_8c708_row0_col6\" class=\"data row0 col6\" >0.5538</td>\n",
       "      <td id=\"T_8c708_row0_col7\" class=\"data row0 col7\" >0.5541</td>\n",
       "    </tr>\n",
       "  </tbody>\n",
       "</table>\n"
      ],
      "text/plain": [
       "<pandas.io.formats.style.Styler at 0x210ffc9a9e0>"
      ]
     },
     "metadata": {},
     "output_type": "display_data"
    }
   ],
   "source": [
    "# final model will be trained with all data we entered in pycaret. \n",
    "# and it will have a higher accuracy \n",
    "\n",
    "final_model = finalize_model(cb_tuned)\n",
    "final_predict = predict_model(final_model)"
   ]
  },
  {
   "cell_type": "markdown",
   "metadata": {},
   "source": [
    "### Evaluation and Explainability of the classifier\n",
    "the evaluate_model() function output a range of metrics:  "
   ]
  },
  {
   "cell_type": "code",
   "execution_count": 24,
   "metadata": {
    "scrolled": false
   },
   "outputs": [
    {
     "data": {
      "application/vnd.jupyter.widget-view+json": {
       "model_id": "9f3b0cc069784bbfa4ecb2392bc94f98",
       "version_major": 2,
       "version_minor": 0
      },
      "text/plain": [
       "interactive(children=(ToggleButtons(description='Plot Type:', icons=('',), options=(('Pipeline Plot', 'pipelin…"
      ]
     },
     "metadata": {},
     "output_type": "display_data"
    }
   ],
   "source": [
    "# you can click on any of them to see the metric plot\n",
    "evaluate_model(final_model)"
   ]
  },
  {
   "cell_type": "markdown",
   "metadata": {},
   "source": [
    "or call only the plot we want"
   ]
  },
  {
   "cell_type": "code",
   "execution_count": 25,
   "metadata": {},
   "outputs": [
    {
     "data": {
      "text/html": [],
      "text/plain": [
       "<IPython.core.display.HTML object>"
      ]
     },
     "metadata": {},
     "output_type": "display_data"
    },
    {
     "data": {
      "image/png": "[encoded data removed]",
      "text/plain": [
       "<Figure size 800x550 with 1 Axes>"
      ]
     },
     "metadata": {},
     "output_type": "display_data"
    }
   ],
   "source": [
    "plot_model(final_model, plot = 'confusion_matrix')"
   ]
  },
  {
   "cell_type": "code",
   "execution_count": 26,
   "metadata": {},
   "outputs": [
    {
     "data": {
      "text/html": [],
      "text/plain": [
       "<IPython.core.display.HTML object>"
      ]
     },
     "metadata": {},
     "output_type": "display_data"
    },
    {
     "data": {
      "image/png": "[encoded data removed]",
      "text/plain": [
       "<Figure size 800x500 with 1 Axes>"
      ]
     },
     "metadata": {},
     "output_type": "display_data"
    }
   ],
   "source": [
    "# plot feature importance\n",
    "plot_model(final_model, plot = 'feature')"
   ]
  },
  {
   "cell_type": "markdown",
   "metadata": {},
   "source": [
    "### Real predictions - final test\n",
    "Now, using the same function predict_model() we can check how the model performs with the 20% data we separated in notebook cell nº 16, before using Pycaret, meaning this data hasn´t been seen by the algorithm at all."
   ]
  },
  {
   "cell_type": "code",
   "execution_count": 27,
   "metadata": {},
   "outputs": [
    {
     "data": {
      "text/html": [
       "<style type=\"text/css\">\n",
       "</style>\n",
       "<table id=\"T_6bd7e\">\n",
       "  <thead>\n",
       "    <tr>\n",
       "      <th class=\"blank level0\" >&nbsp;</th>\n",
       "      <th id=\"T_6bd7e_level0_col0\" class=\"col_heading level0 col0\" >Model</th>\n",
       "      <th id=\"T_6bd7e_level0_col1\" class=\"col_heading level0 col1\" >Accuracy</th>\n",
       "      <th id=\"T_6bd7e_level0_col2\" class=\"col_heading level0 col2\" >AUC</th>\n",
       "      <th id=\"T_6bd7e_level0_col3\" class=\"col_heading level0 col3\" >Recall</th>\n",
       "      <th id=\"T_6bd7e_level0_col4\" class=\"col_heading level0 col4\" >Prec.</th>\n",
       "      <th id=\"T_6bd7e_level0_col5\" class=\"col_heading level0 col5\" >F1</th>\n",
       "      <th id=\"T_6bd7e_level0_col6\" class=\"col_heading level0 col6\" >Kappa</th>\n",
       "      <th id=\"T_6bd7e_level0_col7\" class=\"col_heading level0 col7\" >MCC</th>\n",
       "    </tr>\n",
       "  </thead>\n",
       "  <tbody>\n",
       "    <tr>\n",
       "      <th id=\"T_6bd7e_level0_row0\" class=\"row_heading level0 row0\" >0</th>\n",
       "      <td id=\"T_6bd7e_row0_col0\" class=\"data row0 col0\" >CatBoost Classifier</td>\n",
       "      <td id=\"T_6bd7e_row0_col1\" class=\"data row0 col1\" >0.6941</td>\n",
       "      <td id=\"T_6bd7e_row0_col2\" class=\"data row0 col2\" >0.8889</td>\n",
       "      <td id=\"T_6bd7e_row0_col3\" class=\"data row0 col3\" >0.6941</td>\n",
       "      <td id=\"T_6bd7e_row0_col4\" class=\"data row0 col4\" >0.7758</td>\n",
       "      <td id=\"T_6bd7e_row0_col5\" class=\"data row0 col5\" >0.7107</td>\n",
       "      <td id=\"T_6bd7e_row0_col6\" class=\"data row0 col6\" >0.5308</td>\n",
       "      <td id=\"T_6bd7e_row0_col7\" class=\"data row0 col7\" >0.5559</td>\n",
       "    </tr>\n",
       "  </tbody>\n",
       "</table>\n"
      ],
      "text/plain": [
       "<pandas.io.formats.style.Styler at 0x210ffc9ab30>"
      ]
     },
     "metadata": {},
     "output_type": "display_data"
    },
    {
     "data": {
      "text/html": [
       "<div>\n",
       "<style scoped>\n",
       "    .dataframe tbody tr th:only-of-type {\n",
       "        vertical-align: middle;\n",
       "    }\n",
       "\n",
       "    .dataframe tbody tr th {\n",
       "        vertical-align: top;\n",
       "    }\n",
       "\n",
       "    .dataframe thead th {\n",
       "        text-align: right;\n",
       "    }\n",
       "</style>\n",
       "<table border=\"1\" class=\"dataframe\">\n",
       "  <thead>\n",
       "    <tr style=\"text-align: right;\">\n",
       "      <th></th>\n",
       "      <th>mm</th>\n",
       "      <th>tmax</th>\n",
       "      <th>tmin</th>\n",
       "      <th>af</th>\n",
       "      <th>rain</th>\n",
       "      <th>area</th>\n",
       "      <th>prediction_label</th>\n",
       "      <th>prediction_score</th>\n",
       "    </tr>\n",
       "  </thead>\n",
       "  <tbody>\n",
       "    <tr>\n",
       "      <th>0</th>\n",
       "      <td>3</td>\n",
       "      <td>8.800000</td>\n",
       "      <td>3.8</td>\n",
       "      <td>1.0</td>\n",
       "      <td>142.000000</td>\n",
       "      <td>1</td>\n",
       "      <td>North</td>\n",
       "      <td>0.8294</td>\n",
       "    </tr>\n",
       "    <tr>\n",
       "      <th>1</th>\n",
       "      <td>4</td>\n",
       "      <td>12.500000</td>\n",
       "      <td>5.8</td>\n",
       "      <td>0.0</td>\n",
       "      <td>44.200001</td>\n",
       "      <td>1</td>\n",
       "      <td>South</td>\n",
       "      <td>0.5675</td>\n",
       "    </tr>\n",
       "    <tr>\n",
       "      <th>2</th>\n",
       "      <td>5</td>\n",
       "      <td>12.000000</td>\n",
       "      <td>5.8</td>\n",
       "      <td>1.0</td>\n",
       "      <td>61.200001</td>\n",
       "      <td>1</td>\n",
       "      <td>North</td>\n",
       "      <td>0.6708</td>\n",
       "    </tr>\n",
       "    <tr>\n",
       "      <th>3</th>\n",
       "      <td>6</td>\n",
       "      <td>14.400000</td>\n",
       "      <td>9.2</td>\n",
       "      <td>0.0</td>\n",
       "      <td>77.800003</td>\n",
       "      <td>1</td>\n",
       "      <td>North</td>\n",
       "      <td>0.8185</td>\n",
       "    </tr>\n",
       "    <tr>\n",
       "      <th>4</th>\n",
       "      <td>7</td>\n",
       "      <td>17.600000</td>\n",
       "      <td>12.2</td>\n",
       "      <td>0.0</td>\n",
       "      <td>90.000000</td>\n",
       "      <td>1</td>\n",
       "      <td>North</td>\n",
       "      <td>0.4978</td>\n",
       "    </tr>\n",
       "    <tr>\n",
       "      <th>...</th>\n",
       "      <td>...</td>\n",
       "      <td>...</td>\n",
       "      <td>...</td>\n",
       "      <td>...</td>\n",
       "      <td>...</td>\n",
       "      <td>...</td>\n",
       "      <td>...</td>\n",
       "      <td>...</td>\n",
       "    </tr>\n",
       "    <tr>\n",
       "      <th>881</th>\n",
       "      <td>8</td>\n",
       "      <td>25.700001</td>\n",
       "      <td>12.8</td>\n",
       "      <td>0.0</td>\n",
       "      <td>15.400000</td>\n",
       "      <td>2</td>\n",
       "      <td>South</td>\n",
       "      <td>0.6340</td>\n",
       "    </tr>\n",
       "    <tr>\n",
       "      <th>882</th>\n",
       "      <td>9</td>\n",
       "      <td>19.799999</td>\n",
       "      <td>9.9</td>\n",
       "      <td>0.0</td>\n",
       "      <td>57.400002</td>\n",
       "      <td>2</td>\n",
       "      <td>South</td>\n",
       "      <td>0.7534</td>\n",
       "    </tr>\n",
       "    <tr>\n",
       "      <th>883</th>\n",
       "      <td>10</td>\n",
       "      <td>17.900000</td>\n",
       "      <td>9.8</td>\n",
       "      <td>1.0</td>\n",
       "      <td>111.199997</td>\n",
       "      <td>2</td>\n",
       "      <td>South</td>\n",
       "      <td>0.6442</td>\n",
       "    </tr>\n",
       "    <tr>\n",
       "      <th>884</th>\n",
       "      <td>11</td>\n",
       "      <td>13.200000</td>\n",
       "      <td>6.9</td>\n",
       "      <td>1.0</td>\n",
       "      <td>131.800003</td>\n",
       "      <td>2</td>\n",
       "      <td>South</td>\n",
       "      <td>0.6122</td>\n",
       "    </tr>\n",
       "    <tr>\n",
       "      <th>885</th>\n",
       "      <td>12</td>\n",
       "      <td>7.800000</td>\n",
       "      <td>0.4</td>\n",
       "      <td>13.0</td>\n",
       "      <td>81.400002</td>\n",
       "      <td>2</td>\n",
       "      <td>North</td>\n",
       "      <td>0.3781</td>\n",
       "    </tr>\n",
       "  </tbody>\n",
       "</table>\n",
       "<p>886 rows × 8 columns</p>\n",
       "</div>"
      ],
      "text/plain": [
       "     mm       tmax  tmin    af        rain  area prediction_label  \\\n",
       "0     3   8.800000   3.8   1.0  142.000000     1            North   \n",
       "1     4  12.500000   5.8   0.0   44.200001     1            South   \n",
       "2     5  12.000000   5.8   1.0   61.200001     1            North   \n",
       "3     6  14.400000   9.2   0.0   77.800003     1            North   \n",
       "4     7  17.600000  12.2   0.0   90.000000     1            North   \n",
       "..   ..        ...   ...   ...         ...   ...              ...   \n",
       "881   8  25.700001  12.8   0.0   15.400000     2            South   \n",
       "882   9  19.799999   9.9   0.0   57.400002     2            South   \n",
       "883  10  17.900000   9.8   1.0  111.199997     2            South   \n",
       "884  11  13.200000   6.9   1.0  131.800003     2            South   \n",
       "885  12   7.800000   0.4  13.0   81.400002     2            North   \n",
       "\n",
       "     prediction_score  \n",
       "0              0.8294  \n",
       "1              0.5675  \n",
       "2              0.6708  \n",
       "3              0.8185  \n",
       "4              0.4978  \n",
       "..                ...  \n",
       "881            0.6340  \n",
       "882            0.7534  \n",
       "883            0.6442  \n",
       "884            0.6122  \n",
       "885            0.3781  \n",
       "\n",
       "[886 rows x 8 columns]"
      ]
     },
     "execution_count": 27,
     "metadata": {},
     "output_type": "execute_result"
    }
   ],
   "source": [
    "real_predictions = predict_model(final_model, unseen_data)\n",
    "real_predictions"
   ]
  },
  {
   "cell_type": "markdown",
   "metadata": {},
   "source": [
    "As expected, accuracy in the unseen data is a bit lower, but very very close to the final_model accuracy. That also means that our model fits the training data well and it is also able to generalize and make predictions on new data. Now we can go back to our assumption on how a good our algorithm should be. We said 33% (you can also compare with the dummy classifier at the botton of the compare model() results). I think we can give thumbs up to this final model and save it for its use."
   ]
  },
  {
   "cell_type": "markdown",
   "metadata": {},
   "source": [
    "### Saving the algorithm"
   ]
  },
  {
   "cell_type": "code",
   "execution_count": 28,
   "metadata": {
    "scrolled": true
   },
   "outputs": [
    {
     "name": "stdout",
     "output_type": "stream",
     "text": [
      "Transformation Pipeline and Model Successfully Saved\n"
     ]
    },
    {
     "data": {
      "text/plain": [
       "(Pipeline(memory=FastMemory(location=C:\\Users\\Casa\\AppData\\Local\\Temp\\joblib),\n",
       "          steps=[('label_encoding',\n",
       "                  TransformerWrapperWithInverse(exclude=None, include=None,\n",
       "                                                transformer=LabelEncoder())),\n",
       "                 ('numerical_imputer',\n",
       "                  TransformerWrapper(exclude=None,\n",
       "                                     include=['tmax', 'tmin', 'af', 'rain'],\n",
       "                                     transformer=SimpleImputer(add_indicator=False,\n",
       "                                                               copy=True,\n",
       "                                                               fill_value=None,\n",
       "                                                               ke...\n",
       "                                                               strategy='most_frequent',\n",
       "                                                               verbose='deprecated'))),\n",
       "                 ('onehot_encoding',\n",
       "                  TransformerWrapper(exclude=None, include=['mm'],\n",
       "                                     transformer=OneHotEncoder(cols=['mm'],\n",
       "                                                               drop_invariant=False,\n",
       "                                                               handle_missing='return_nan',\n",
       "                                                               handle_unknown='value',\n",
       "                                                               return_df=True,\n",
       "                                                               use_cat_names=True,\n",
       "                                                               verbose=0))),\n",
       "                 ('actual_estimator',\n",
       "                  <catboost.core.CatBoostClassifier object at 0x00000210FFC9B0A0>)],\n",
       "          verbose=False),\n",
       " 'my_pipeline.pkl')"
      ]
     },
     "execution_count": 28,
     "metadata": {},
     "output_type": "execute_result"
    }
   ],
   "source": [
    "# save pipeline\n",
    "save_model(final_model, 'my_pipeline')"
   ]
  },
  {
   "cell_type": "markdown",
   "metadata": {},
   "source": [
    "### Loading the pipeline"
   ]
  },
  {
   "cell_type": "code",
   "execution_count": 29,
   "metadata": {},
   "outputs": [
    {
     "name": "stdout",
     "output_type": "stream",
     "text": [
      "Transformation Pipeline and Model Successfully Loaded\n"
     ]
    },
    {
     "data": {
      "text/html": [
       "<style>#sk-container-id-1 {color: black;background-color: white;}#sk-container-id-1 pre{padding: 0;}#sk-container-id-1 div.sk-toggleable {background-color: white;}#sk-container-id-1 label.sk-toggleable__label {cursor: pointer;display: block;width: 100%;margin-bottom: 0;padding: 0.3em;box-sizing: border-box;text-align: center;}#sk-container-id-1 label.sk-toggleable__label-arrow:before {content: \"▸\";float: left;margin-right: 0.25em;color: #696969;}#sk-container-id-1 label.sk-toggleable__label-arrow:hover:before {color: black;}#sk-container-id-1 div.sk-estimator:hover label.sk-toggleable__label-arrow:before {color: black;}#sk-container-id-1 div.sk-toggleable__content {max-height: 0;max-width: 0;overflow: hidden;text-align: left;background-color: #f0f8ff;}#sk-container-id-1 div.sk-toggleable__content pre {margin: 0.2em;color: black;border-radius: 0.25em;background-color: #f0f8ff;}#sk-container-id-1 input.sk-toggleable__control:checked~div.sk-toggleable__content {max-height: 200px;max-width: 100%;overflow: auto;}#sk-container-id-1 input.sk-toggleable__control:checked~label.sk-toggleable__label-arrow:before {content: \"▾\";}#sk-container-id-1 div.sk-estimator input.sk-toggleable__control:checked~label.sk-toggleable__label {background-color: #d4ebff;}#sk-container-id-1 div.sk-label input.sk-toggleable__control:checked~label.sk-toggleable__label {background-color: #d4ebff;}#sk-container-id-1 input.sk-hidden--visually {border: 0;clip: rect(1px 1px 1px 1px);clip: rect(1px, 1px, 1px, 1px);height: 1px;margin: -1px;overflow: hidden;padding: 0;position: absolute;width: 1px;}#sk-container-id-1 div.sk-estimator {font-family: monospace;background-color: #f0f8ff;border: 1px dotted black;border-radius: 0.25em;box-sizing: border-box;margin-bottom: 0.5em;}#sk-container-id-1 div.sk-estimator:hover {background-color: #d4ebff;}#sk-container-id-1 div.sk-parallel-item::after {content: \"\";width: 100%;border-bottom: 1px solid gray;flex-grow: 1;}#sk-container-id-1 div.sk-label:hover label.sk-toggleable__label {background-color: #d4ebff;}#sk-container-id-1 div.sk-serial::before {content: \"\";position: absolute;border-left: 1px solid gray;box-sizing: border-box;top: 0;bottom: 0;left: 50%;z-index: 0;}#sk-container-id-1 div.sk-serial {display: flex;flex-direction: column;align-items: center;background-color: white;padding-right: 0.2em;padding-left: 0.2em;position: relative;}#sk-container-id-1 div.sk-item {position: relative;z-index: 1;}#sk-container-id-1 div.sk-parallel {display: flex;align-items: stretch;justify-content: center;background-color: white;position: relative;}#sk-container-id-1 div.sk-item::before, #sk-container-id-1 div.sk-parallel-item::before {content: \"\";position: absolute;border-left: 1px solid gray;box-sizing: border-box;top: 0;bottom: 0;left: 50%;z-index: -1;}#sk-container-id-1 div.sk-parallel-item {display: flex;flex-direction: column;z-index: 1;position: relative;background-color: white;}#sk-container-id-1 div.sk-parallel-item:first-child::after {align-self: flex-end;width: 50%;}#sk-container-id-1 div.sk-parallel-item:last-child::after {align-self: flex-start;width: 50%;}#sk-container-id-1 div.sk-parallel-item:only-child::after {width: 0;}#sk-container-id-1 div.sk-dashed-wrapped {border: 1px dashed gray;margin: 0 0.4em 0.5em 0.4em;box-sizing: border-box;padding-bottom: 0.4em;background-color: white;}#sk-container-id-1 div.sk-label label {font-family: monospace;font-weight: bold;display: inline-block;line-height: 1.2em;}#sk-container-id-1 div.sk-label-container {text-align: center;}#sk-container-id-1 div.sk-container {/* jupyter's `normalize.less` sets `[hidden] { display: none; }` but bootstrap.min.css set `[hidden] { display: none !important; }` so we also need the `!important` here to be able to override the default hidden behavior on the sphinx rendered scikit-learn.org. See: https://github.com/scikit-learn/scikit-learn/issues/21755 */display: inline-block !important;position: relative;}#sk-container-id-1 div.sk-text-repr-fallback {display: none;}</style><div id=\"sk-container-id-1\" class=\"sk-top-container\"><div class=\"sk-text-repr-fallback\"><pre>Pipeline(memory=FastMemory(location=C:\\Users\\Casa\\AppData\\Local\\Temp\\joblib),\n",
       "         steps=[(&#x27;label_encoding&#x27;,\n",
       "                 TransformerWrapperWithInverse(exclude=None, include=None,\n",
       "                                               transformer=LabelEncoder())),\n",
       "                (&#x27;numerical_imputer&#x27;,\n",
       "                 TransformerWrapper(exclude=None,\n",
       "                                    include=[&#x27;tmax&#x27;, &#x27;tmin&#x27;, &#x27;af&#x27;, &#x27;rain&#x27;],\n",
       "                                    transformer=SimpleImputer(add_indicator=False,\n",
       "                                                              copy=True,\n",
       "                                                              fill_value=None,\n",
       "                                                              ke...\n",
       "                                                              strategy=&#x27;most_frequent&#x27;,\n",
       "                                                              verbose=&#x27;deprecated&#x27;))),\n",
       "                (&#x27;onehot_encoding&#x27;,\n",
       "                 TransformerWrapper(exclude=None, include=[&#x27;mm&#x27;],\n",
       "                                    transformer=OneHotEncoder(cols=[&#x27;mm&#x27;],\n",
       "                                                              drop_invariant=False,\n",
       "                                                              handle_missing=&#x27;return_nan&#x27;,\n",
       "                                                              handle_unknown=&#x27;value&#x27;,\n",
       "                                                              return_df=True,\n",
       "                                                              use_cat_names=True,\n",
       "                                                              verbose=0))),\n",
       "                (&#x27;actual_estimator&#x27;,\n",
       "                 &lt;catboost.core.CatBoostClassifier object at 0x00000210800B6E00&gt;)],\n",
       "         verbose=False)</pre><b>In a Jupyter environment, please rerun this cell to show the HTML representation or trust the notebook. <br />On GitHub, the HTML representation is unable to render, please try loading this page with nbviewer.org.</b></div><div class=\"sk-container\" hidden><div class=\"sk-item sk-dashed-wrapped\"><div class=\"sk-label-container\"><div class=\"sk-label sk-toggleable\"><input class=\"sk-toggleable__control sk-hidden--visually\" id=\"sk-estimator-id-1\" type=\"checkbox\" ><label for=\"sk-estimator-id-1\" class=\"sk-toggleable__label sk-toggleable__label-arrow\">Pipeline</label><div class=\"sk-toggleable__content\"><pre>Pipeline(memory=FastMemory(location=C:\\Users\\Casa\\AppData\\Local\\Temp\\joblib),\n",
       "         steps=[(&#x27;label_encoding&#x27;,\n",
       "                 TransformerWrapperWithInverse(exclude=None, include=None,\n",
       "                                               transformer=LabelEncoder())),\n",
       "                (&#x27;numerical_imputer&#x27;,\n",
       "                 TransformerWrapper(exclude=None,\n",
       "                                    include=[&#x27;tmax&#x27;, &#x27;tmin&#x27;, &#x27;af&#x27;, &#x27;rain&#x27;],\n",
       "                                    transformer=SimpleImputer(add_indicator=False,\n",
       "                                                              copy=True,\n",
       "                                                              fill_value=None,\n",
       "                                                              ke...\n",
       "                                                              strategy=&#x27;most_frequent&#x27;,\n",
       "                                                              verbose=&#x27;deprecated&#x27;))),\n",
       "                (&#x27;onehot_encoding&#x27;,\n",
       "                 TransformerWrapper(exclude=None, include=[&#x27;mm&#x27;],\n",
       "                                    transformer=OneHotEncoder(cols=[&#x27;mm&#x27;],\n",
       "                                                              drop_invariant=False,\n",
       "                                                              handle_missing=&#x27;return_nan&#x27;,\n",
       "                                                              handle_unknown=&#x27;value&#x27;,\n",
       "                                                              return_df=True,\n",
       "                                                              use_cat_names=True,\n",
       "                                                              verbose=0))),\n",
       "                (&#x27;actual_estimator&#x27;,\n",
       "                 &lt;catboost.core.CatBoostClassifier object at 0x00000210800B6E00&gt;)],\n",
       "         verbose=False)</pre></div></div></div><div class=\"sk-serial\"><div class=\"sk-item sk-dashed-wrapped\"><div class=\"sk-label-container\"><div class=\"sk-label sk-toggleable\"><input class=\"sk-toggleable__control sk-hidden--visually\" id=\"sk-estimator-id-2\" type=\"checkbox\" ><label for=\"sk-estimator-id-2\" class=\"sk-toggleable__label sk-toggleable__label-arrow\">label_encoding: TransformerWrapperWithInverse</label><div class=\"sk-toggleable__content\"><pre>TransformerWrapperWithInverse(exclude=None, include=None,\n",
       "                              transformer=LabelEncoder())</pre></div></div></div><div class=\"sk-parallel\"><div class=\"sk-parallel-item\"><div class=\"sk-item\"><div class=\"sk-label-container\"><div class=\"sk-label sk-toggleable\"><input class=\"sk-toggleable__control sk-hidden--visually\" id=\"sk-estimator-id-3\" type=\"checkbox\" ><label for=\"sk-estimator-id-3\" class=\"sk-toggleable__label sk-toggleable__label-arrow\">transformer: LabelEncoder</label><div class=\"sk-toggleable__content\"><pre>LabelEncoder()</pre></div></div></div><div class=\"sk-serial\"><div class=\"sk-item\"><div class=\"sk-estimator sk-toggleable\"><input class=\"sk-toggleable__control sk-hidden--visually\" id=\"sk-estimator-id-4\" type=\"checkbox\" ><label for=\"sk-estimator-id-4\" class=\"sk-toggleable__label sk-toggleable__label-arrow\">LabelEncoder</label><div class=\"sk-toggleable__content\"><pre>LabelEncoder()</pre></div></div></div></div></div></div></div></div><div class=\"sk-item sk-dashed-wrapped\"><div class=\"sk-label-container\"><div class=\"sk-label sk-toggleable\"><input class=\"sk-toggleable__control sk-hidden--visually\" id=\"sk-estimator-id-5\" type=\"checkbox\" ><label for=\"sk-estimator-id-5\" class=\"sk-toggleable__label sk-toggleable__label-arrow\">numerical_imputer: TransformerWrapper</label><div class=\"sk-toggleable__content\"><pre>TransformerWrapper(exclude=None, include=[&#x27;tmax&#x27;, &#x27;tmin&#x27;, &#x27;af&#x27;, &#x27;rain&#x27;],\n",
       "                   transformer=SimpleImputer(add_indicator=False, copy=True,\n",
       "                                             fill_value=None,\n",
       "                                             keep_empty_features=False,\n",
       "                                             missing_values=nan,\n",
       "                                             strategy=&#x27;mean&#x27;,\n",
       "                                             verbose=&#x27;deprecated&#x27;))</pre></div></div></div><div class=\"sk-parallel\"><div class=\"sk-parallel-item\"><div class=\"sk-item\"><div class=\"sk-label-container\"><div class=\"sk-label sk-toggleable\"><input class=\"sk-toggleable__control sk-hidden--visually\" id=\"sk-estimator-id-6\" type=\"checkbox\" ><label for=\"sk-estimator-id-6\" class=\"sk-toggleable__label sk-toggleable__label-arrow\">transformer: SimpleImputer</label><div class=\"sk-toggleable__content\"><pre>SimpleImputer()</pre></div></div></div><div class=\"sk-serial\"><div class=\"sk-item\"><div class=\"sk-estimator sk-toggleable\"><input class=\"sk-toggleable__control sk-hidden--visually\" id=\"sk-estimator-id-7\" type=\"checkbox\" ><label for=\"sk-estimator-id-7\" class=\"sk-toggleable__label sk-toggleable__label-arrow\">SimpleImputer</label><div class=\"sk-toggleable__content\"><pre>SimpleImputer()</pre></div></div></div></div></div></div></div></div><div class=\"sk-item sk-dashed-wrapped\"><div class=\"sk-label-container\"><div class=\"sk-label sk-toggleable\"><input class=\"sk-toggleable__control sk-hidden--visually\" id=\"sk-estimator-id-8\" type=\"checkbox\" ><label for=\"sk-estimator-id-8\" class=\"sk-toggleable__label sk-toggleable__label-arrow\">categorical_imputer: TransformerWrapper</label><div class=\"sk-toggleable__content\"><pre>TransformerWrapper(exclude=None, include=[&#x27;mm&#x27;],\n",
       "                   transformer=SimpleImputer(add_indicator=False, copy=True,\n",
       "                                             fill_value=None,\n",
       "                                             keep_empty_features=False,\n",
       "                                             missing_values=nan,\n",
       "                                             strategy=&#x27;most_frequent&#x27;,\n",
       "                                             verbose=&#x27;deprecated&#x27;))</pre></div></div></div><div class=\"sk-parallel\"><div class=\"sk-parallel-item\"><div class=\"sk-item\"><div class=\"sk-label-container\"><div class=\"sk-label sk-toggleable\"><input class=\"sk-toggleable__control sk-hidden--visually\" id=\"sk-estimator-id-9\" type=\"checkbox\" ><label for=\"sk-estimator-id-9\" class=\"sk-toggleable__label sk-toggleable__label-arrow\">transformer: SimpleImputer</label><div class=\"sk-toggleable__content\"><pre>SimpleImputer(strategy=&#x27;most_frequent&#x27;)</pre></div></div></div><div class=\"sk-serial\"><div class=\"sk-item\"><div class=\"sk-estimator sk-toggleable\"><input class=\"sk-toggleable__control sk-hidden--visually\" id=\"sk-estimator-id-10\" type=\"checkbox\" ><label for=\"sk-estimator-id-10\" class=\"sk-toggleable__label sk-toggleable__label-arrow\">SimpleImputer</label><div class=\"sk-toggleable__content\"><pre>SimpleImputer(strategy=&#x27;most_frequent&#x27;)</pre></div></div></div></div></div></div></div></div><div class=\"sk-item sk-dashed-wrapped\"><div class=\"sk-label-container\"><div class=\"sk-label sk-toggleable\"><input class=\"sk-toggleable__control sk-hidden--visually\" id=\"sk-estimator-id-11\" type=\"checkbox\" ><label for=\"sk-estimator-id-11\" class=\"sk-toggleable__label sk-toggleable__label-arrow\">onehot_encoding: TransformerWrapper</label><div class=\"sk-toggleable__content\"><pre>TransformerWrapper(exclude=None, include=[&#x27;mm&#x27;],\n",
       "                   transformer=OneHotEncoder(cols=[&#x27;mm&#x27;], drop_invariant=False,\n",
       "                                             handle_missing=&#x27;return_nan&#x27;,\n",
       "                                             handle_unknown=&#x27;value&#x27;,\n",
       "                                             return_df=True, use_cat_names=True,\n",
       "                                             verbose=0))</pre></div></div></div><div class=\"sk-parallel\"><div class=\"sk-parallel-item\"><div class=\"sk-item\"><div class=\"sk-label-container\"><div class=\"sk-label sk-toggleable\"><input class=\"sk-toggleable__control sk-hidden--visually\" id=\"sk-estimator-id-12\" type=\"checkbox\" ><label for=\"sk-estimator-id-12\" class=\"sk-toggleable__label sk-toggleable__label-arrow\">transformer: OneHotEncoder</label><div class=\"sk-toggleable__content\"><pre>OneHotEncoder(cols=[&#x27;mm&#x27;], handle_missing=&#x27;return_nan&#x27;, use_cat_names=True)</pre></div></div></div><div class=\"sk-serial\"><div class=\"sk-item\"><div class=\"sk-estimator sk-toggleable\"><input class=\"sk-toggleable__control sk-hidden--visually\" id=\"sk-estimator-id-13\" type=\"checkbox\" ><label for=\"sk-estimator-id-13\" class=\"sk-toggleable__label sk-toggleable__label-arrow\">OneHotEncoder</label><div class=\"sk-toggleable__content\"><pre>OneHotEncoder(cols=[&#x27;mm&#x27;], handle_missing=&#x27;return_nan&#x27;, use_cat_names=True)</pre></div></div></div></div></div></div></div></div><div class=\"sk-item\"><div class=\"sk-estimator sk-toggleable\"><input class=\"sk-toggleable__control sk-hidden--visually\" id=\"sk-estimator-id-14\" type=\"checkbox\" ><label for=\"sk-estimator-id-14\" class=\"sk-toggleable__label sk-toggleable__label-arrow\">CatBoostClassifier</label><div class=\"sk-toggleable__content\"><pre>&lt;catboost.core.CatBoostClassifier object at 0x00000210800B6E00&gt;</pre></div></div></div></div></div></div></div>"
      ],
      "text/plain": [
       "Pipeline(memory=FastMemory(location=C:\\Users\\Casa\\AppData\\Local\\Temp\\joblib),\n",
       "         steps=[('label_encoding',\n",
       "                 TransformerWrapperWithInverse(exclude=None, include=None,\n",
       "                                               transformer=LabelEncoder())),\n",
       "                ('numerical_imputer',\n",
       "                 TransformerWrapper(exclude=None,\n",
       "                                    include=['tmax', 'tmin', 'af', 'rain'],\n",
       "                                    transformer=SimpleImputer(add_indicator=False,\n",
       "                                                              copy=True,\n",
       "                                                              fill_value=None,\n",
       "                                                              ke...\n",
       "                                                              strategy='most_frequent',\n",
       "                                                              verbose='deprecated'))),\n",
       "                ('onehot_encoding',\n",
       "                 TransformerWrapper(exclude=None, include=['mm'],\n",
       "                                    transformer=OneHotEncoder(cols=['mm'],\n",
       "                                                              drop_invariant=False,\n",
       "                                                              handle_missing='return_nan',\n",
       "                                                              handle_unknown='value',\n",
       "                                                              return_df=True,\n",
       "                                                              use_cat_names=True,\n",
       "                                                              verbose=0))),\n",
       "                ('actual_estimator',\n",
       "                 <catboost.core.CatBoostClassifier object at 0x00000210800B6E00>)],\n",
       "         verbose=False)"
      ]
     },
     "execution_count": 29,
     "metadata": {},
     "output_type": "execute_result"
    }
   ],
   "source": [
    "# load pipeline when you need it \n",
    "loaded_best_pipeline = load_model('my_pipeline')\n",
    "loaded_best_pipeline"
   ]
  },
  {
   "cell_type": "code",
   "execution_count": null,
   "metadata": {},
   "outputs": [],
   "source": []
  }
 ],
 "metadata": {
  "kernelspec": {
   "display_name": "Python 3 (ipykernel)",
   "language": "python",
   "name": "python3"
  },
  "language_info": {
   "codemirror_mode": {
    "name": "ipython",
    "version": 3
   },
   "file_extension": ".py",
   "mimetype": "text/x-python",
   "name": "python",
   "nbconvert_exporter": "python",
   "pygments_lexer": "ipython3",
   "version": "3.10.9"
  }
 },
 "nbformat": 4,
 "nbformat_minor": 4
}
